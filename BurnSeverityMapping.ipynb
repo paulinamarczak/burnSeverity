{
  "cells": [
    {
      "cell_type": "markdown",
      "metadata": {
        "id": "view-in-github",
        "colab_type": "text"
      },
      "source": [
        "<a href=\"https://colab.research.google.com/github/paulinamarczak/burnSeverity/blob/updates/BurnSeverityMapping.ipynb\" target=\"_parent\"><img src=\"https://colab.research.google.com/assets/colab-badge.svg\" alt=\"Open In Colab\"/></a>"
      ]
    },
    {
      "cell_type": "markdown",
      "metadata": {
        "id": "0djxgBzOnOM8"
      },
      "source": [
        "# Burn Severity Mapping Notebook\n",
        "This notebook is intended to be used for small scale, interactive burn severity mapping of individual fires. For large scale semi-automated mapping please refer to the main python scripts (https://github.com/SashaNasonova/burnSeverity).\n",
        "\n",
        "The methodology is based on the Burned Area Reflectance Classification (BARC) product developed by the USGS that aims to estimate burn severity through a spectral comparison of pre- and post-fire medium resolution (20 - 30m) satellite imagery.\n",
        "\n",
        "Healthy vegetation reflects strongly in the near-infrared (NIR) portion of the electromagnetic spectrum whereas rock and bare soil reflects strongly in the mid to shortwave infrared (SWIR) portion. In other words, healthy vegetation reflects strongly in NIR and reflects weakly in SWIR **(↑NIR,↓SWIR)**, whereas soil, bare rock and burned woody vegetation reflect strongly in SWIR and weakly in NIR **(↑SWIR,↓NIR)**. This inverse relationship can be leveraged to provide an estimate of burn severity where both pre- and post-fire imagery is available.\n",
        "\n",
        "The Normalized Burn Ratio (NBR) is a spectral index that captures the relationship between NIR and SWIR bands. The difference between pre- and post-fire NBR (dNBR) can then be used to quantify wildfire burn severity (**↑dNBR ∝ ↑Severity**) using the following equations.\n",
        "\n",
        "(1) NBR = (NIR - SWIR) / (NIR + SWIR) \\\\\n",
        "(2) dNBR = NBRpre - NBRpost\n",
        "\n",
        "Once dNBR has been calculated, it can be transformed into a burn severity classification product using a variety of methods ranging from simple thresholding to more complex supervised classifications informed by ground observations. This process is based on the USGS BARC256 methodology which scales the data to an 8-bit representation and utilizes static thresholds (76,110,187) to create a burn severity classification from the dNBR raster.\n",
        "\n",
        "This notebook is divided into the following sections:\n",
        "\n",
        "1. Set up (data import, package installation, library loading)\n",
        "2. Google Earth Engine authentication and initialization\n",
        "3. Fire perimeter import and visualization\n",
        "4. Individual fire perimeter selection (1 fire perimeter)\n",
        "5. Sensor selection\n",
        "6. Pre-fire image search, visualization and selection\n",
        "7. Post-fire image search, visualization and selection\n",
        "8. BARC mapping\n",
        "9. Final visualization for quality control\n",
        "10. Image download\n",
        "11. Quicklooks and area burned by severity class\n",
        "12. Final export\n",
        "\n",
        "Before beginning, please ensure that you are registered to use Google Earth Engine and have the Google Earth Engine API enabled as part of a Google Cloud project. If that is not the case, please follow the instructions on getting started (https://github.com/SashaNasonova/burnSeverity/blob/main/Getting_Started_with_GEE.md). You will need to take note of the project id and enter it later on."
      ]
    },
    {
      "cell_type": "markdown",
      "source": [
        "\n",
        "\n",
        "---\n",
        "\n"
      ],
      "metadata": {
        "id": "KzjQ6j4CfOGw"
      }
    },
    {
      "cell_type": "markdown",
      "source": [
        "### **Part 1: Set-up**"
      ],
      "metadata": {
        "id": "jGYix91SfTew"
      }
    },
    {
      "cell_type": "code",
      "source": [
        "# Clone github repository to be able to access the test data and provincial extent vector data\n",
        "!git clone https://github.com/SashaNasonova/burnSeverity.git"
      ],
      "metadata": {
        "id": "sxuYFlcIfDwh",
        "outputId": "e7604226-9baa-4e5a-d8bb-e2d68e432136",
        "colab": {
          "base_uri": "https://localhost:8080/"
        }
      },
      "execution_count": 1,
      "outputs": [
        {
          "output_type": "stream",
          "name": "stdout",
          "text": [
            "Cloning into 'burnSeverity'...\n",
            "remote: Enumerating objects: 587, done.\u001b[K\n",
            "remote: Counting objects: 100% (31/31), done.\u001b[K\n",
            "remote: Compressing objects: 100% (28/28), done.\u001b[K\n",
            "remote: Total 587 (delta 14), reused 9 (delta 3), pack-reused 556 (from 2)\u001b[K\n",
            "Receiving objects: 100% (587/587), 270.25 MiB | 18.86 MiB/s, done.\n",
            "Resolving deltas: 100% (284/284), done.\n",
            "Updating files: 100% (242/242), done.\n"
          ]
        }
      ]
    },
    {
      "cell_type": "code",
      "execution_count": 2,
      "metadata": {
        "id": "fH_EYpac23-Y",
        "collapsed": true,
        "outputId": "cb4226e7-de4f-4bfc-e669-a853c6450c05",
        "colab": {
          "base_uri": "https://localhost:8080/"
        }
      },
      "outputs": [
        {
          "output_type": "stream",
          "name": "stdout",
          "text": [
            "Collecting geemap==0.32.1\n",
            "  Downloading geemap-0.32.1-py2.py3-none-any.whl.metadata (14 kB)\n",
            "Requirement already satisfied: bqplot in /usr/local/lib/python3.12/dist-packages (from geemap==0.32.1) (0.12.45)\n",
            "Requirement already satisfied: colour in /usr/local/lib/python3.12/dist-packages (from geemap==0.32.1) (0.1.5)\n",
            "Requirement already satisfied: earthengine-api>=0.1.347 in /usr/local/lib/python3.12/dist-packages (from geemap==0.32.1) (1.5.24)\n",
            "Requirement already satisfied: eerepr>=0.0.4 in /usr/local/lib/python3.12/dist-packages (from geemap==0.32.1) (0.1.2)\n",
            "Requirement already satisfied: folium>=0.13.0 in /usr/local/lib/python3.12/dist-packages (from geemap==0.32.1) (0.20.0)\n",
            "Requirement already satisfied: geocoder in /usr/local/lib/python3.12/dist-packages (from geemap==0.32.1) (1.38.1)\n",
            "Requirement already satisfied: ipyevents in /usr/local/lib/python3.12/dist-packages (from geemap==0.32.1) (2.0.2)\n",
            "Requirement already satisfied: ipyfilechooser>=0.6.0 in /usr/local/lib/python3.12/dist-packages (from geemap==0.32.1) (0.6.0)\n",
            "Collecting ipyleaflet==0.18.2 (from geemap==0.32.1)\n",
            "  Downloading ipyleaflet-0.18.2-py3-none-any.whl.metadata (1.0 kB)\n",
            "Requirement already satisfied: ipytree in /usr/local/lib/python3.12/dist-packages (from geemap==0.32.1) (0.2.2)\n",
            "Requirement already satisfied: matplotlib in /usr/local/lib/python3.12/dist-packages (from geemap==0.32.1) (3.10.0)\n",
            "Requirement already satisfied: numpy in /usr/local/lib/python3.12/dist-packages (from geemap==0.32.1) (2.0.2)\n",
            "Requirement already satisfied: pandas in /usr/local/lib/python3.12/dist-packages (from geemap==0.32.1) (2.2.2)\n",
            "Requirement already satisfied: plotly in /usr/local/lib/python3.12/dist-packages (from geemap==0.32.1) (5.24.1)\n",
            "Requirement already satisfied: pyperclip in /usr/local/lib/python3.12/dist-packages (from geemap==0.32.1) (1.9.0)\n",
            "Requirement already satisfied: pyshp>=2.1.3 in /usr/local/lib/python3.12/dist-packages (from geemap==0.32.1) (2.3.1)\n",
            "Requirement already satisfied: python-box in /usr/local/lib/python3.12/dist-packages (from geemap==0.32.1) (7.3.2)\n",
            "Requirement already satisfied: scooby in /usr/local/lib/python3.12/dist-packages (from geemap==0.32.1) (0.10.1)\n",
            "Requirement already satisfied: ipywidgets<9,>=7.6.0 in /usr/local/lib/python3.12/dist-packages (from ipyleaflet==0.18.2->geemap==0.32.1) (7.7.1)\n",
            "Requirement already satisfied: traittypes<3,>=0.2.1 in /usr/local/lib/python3.12/dist-packages (from ipyleaflet==0.18.2->geemap==0.32.1) (0.2.1)\n",
            "Requirement already satisfied: xyzservices>=2021.8.1 in /usr/local/lib/python3.12/dist-packages (from ipyleaflet==0.18.2->geemap==0.32.1) (2025.4.0)\n",
            "Requirement already satisfied: branca>=0.5.0 in /usr/local/lib/python3.12/dist-packages (from ipyleaflet==0.18.2->geemap==0.32.1) (0.8.1)\n",
            "Requirement already satisfied: google-cloud-storage in /usr/local/lib/python3.12/dist-packages (from earthengine-api>=0.1.347->geemap==0.32.1) (2.19.0)\n",
            "Requirement already satisfied: google-api-python-client>=1.12.1 in /usr/local/lib/python3.12/dist-packages (from earthengine-api>=0.1.347->geemap==0.32.1) (2.181.0)\n",
            "Requirement already satisfied: google-auth>=1.4.1 in /usr/local/lib/python3.12/dist-packages (from earthengine-api>=0.1.347->geemap==0.32.1) (2.38.0)\n",
            "Requirement already satisfied: google-auth-httplib2>=0.0.3 in /usr/local/lib/python3.12/dist-packages (from earthengine-api>=0.1.347->geemap==0.32.1) (0.2.0)\n",
            "Requirement already satisfied: httplib2<1dev,>=0.9.2 in /usr/local/lib/python3.12/dist-packages (from earthengine-api>=0.1.347->geemap==0.32.1) (0.30.0)\n",
            "Requirement already satisfied: requests in /usr/local/lib/python3.12/dist-packages (from earthengine-api>=0.1.347->geemap==0.32.1) (2.32.4)\n",
            "Requirement already satisfied: jinja2>=2.9 in /usr/local/lib/python3.12/dist-packages (from folium>=0.13.0->geemap==0.32.1) (3.1.6)\n",
            "Requirement already satisfied: traitlets>=4.3.0 in /usr/local/lib/python3.12/dist-packages (from bqplot->geemap==0.32.1) (5.7.1)\n",
            "Requirement already satisfied: python-dateutil>=2.8.2 in /usr/local/lib/python3.12/dist-packages (from pandas->geemap==0.32.1) (2.9.0.post0)\n",
            "Requirement already satisfied: pytz>=2020.1 in /usr/local/lib/python3.12/dist-packages (from pandas->geemap==0.32.1) (2025.2)\n",
            "Requirement already satisfied: tzdata>=2022.7 in /usr/local/lib/python3.12/dist-packages (from pandas->geemap==0.32.1) (2025.2)\n",
            "Requirement already satisfied: click in /usr/local/lib/python3.12/dist-packages (from geocoder->geemap==0.32.1) (8.2.1)\n",
            "Requirement already satisfied: future in /usr/local/lib/python3.12/dist-packages (from geocoder->geemap==0.32.1) (1.0.0)\n",
            "Requirement already satisfied: ratelim in /usr/local/lib/python3.12/dist-packages (from geocoder->geemap==0.32.1) (0.1.6)\n",
            "Requirement already satisfied: six in /usr/local/lib/python3.12/dist-packages (from geocoder->geemap==0.32.1) (1.17.0)\n",
            "Requirement already satisfied: contourpy>=1.0.1 in /usr/local/lib/python3.12/dist-packages (from matplotlib->geemap==0.32.1) (1.3.3)\n",
            "Requirement already satisfied: cycler>=0.10 in /usr/local/lib/python3.12/dist-packages (from matplotlib->geemap==0.32.1) (0.12.1)\n",
            "Requirement already satisfied: fonttools>=4.22.0 in /usr/local/lib/python3.12/dist-packages (from matplotlib->geemap==0.32.1) (4.59.2)\n",
            "Requirement already satisfied: kiwisolver>=1.3.1 in /usr/local/lib/python3.12/dist-packages (from matplotlib->geemap==0.32.1) (1.4.9)\n",
            "Requirement already satisfied: packaging>=20.0 in /usr/local/lib/python3.12/dist-packages (from matplotlib->geemap==0.32.1) (25.0)\n",
            "Requirement already satisfied: pillow>=8 in /usr/local/lib/python3.12/dist-packages (from matplotlib->geemap==0.32.1) (11.3.0)\n",
            "Requirement already satisfied: pyparsing>=2.3.1 in /usr/local/lib/python3.12/dist-packages (from matplotlib->geemap==0.32.1) (3.2.3)\n",
            "Requirement already satisfied: tenacity>=6.2.0 in /usr/local/lib/python3.12/dist-packages (from plotly->geemap==0.32.1) (8.5.0)\n",
            "Requirement already satisfied: google-api-core!=2.0.*,!=2.1.*,!=2.2.*,!=2.3.0,<3.0.0,>=1.31.5 in /usr/local/lib/python3.12/dist-packages (from google-api-python-client>=1.12.1->earthengine-api>=0.1.347->geemap==0.32.1) (2.25.1)\n",
            "Requirement already satisfied: uritemplate<5,>=3.0.1 in /usr/local/lib/python3.12/dist-packages (from google-api-python-client>=1.12.1->earthengine-api>=0.1.347->geemap==0.32.1) (4.2.0)\n",
            "Requirement already satisfied: cachetools<6.0,>=2.0.0 in /usr/local/lib/python3.12/dist-packages (from google-auth>=1.4.1->earthengine-api>=0.1.347->geemap==0.32.1) (5.5.2)\n",
            "Requirement already satisfied: pyasn1-modules>=0.2.1 in /usr/local/lib/python3.12/dist-packages (from google-auth>=1.4.1->earthengine-api>=0.1.347->geemap==0.32.1) (0.4.2)\n",
            "Requirement already satisfied: rsa<5,>=3.1.4 in /usr/local/lib/python3.12/dist-packages (from google-auth>=1.4.1->earthengine-api>=0.1.347->geemap==0.32.1) (4.9.1)\n",
            "Requirement already satisfied: ipykernel>=4.5.1 in /usr/local/lib/python3.12/dist-packages (from ipywidgets<9,>=7.6.0->ipyleaflet==0.18.2->geemap==0.32.1) (6.17.1)\n",
            "Requirement already satisfied: ipython-genutils~=0.2.0 in /usr/local/lib/python3.12/dist-packages (from ipywidgets<9,>=7.6.0->ipyleaflet==0.18.2->geemap==0.32.1) (0.2.0)\n",
            "Requirement already satisfied: widgetsnbextension~=3.6.0 in /usr/local/lib/python3.12/dist-packages (from ipywidgets<9,>=7.6.0->ipyleaflet==0.18.2->geemap==0.32.1) (3.6.10)\n",
            "Requirement already satisfied: ipython>=4.0.0 in /usr/local/lib/python3.12/dist-packages (from ipywidgets<9,>=7.6.0->ipyleaflet==0.18.2->geemap==0.32.1) (7.34.0)\n",
            "Requirement already satisfied: jupyterlab-widgets>=1.0.0 in /usr/local/lib/python3.12/dist-packages (from ipywidgets<9,>=7.6.0->ipyleaflet==0.18.2->geemap==0.32.1) (3.0.15)\n",
            "Requirement already satisfied: MarkupSafe>=2.0 in /usr/local/lib/python3.12/dist-packages (from jinja2>=2.9->folium>=0.13.0->geemap==0.32.1) (3.0.2)\n",
            "Requirement already satisfied: google-cloud-core<3.0dev,>=2.3.0 in /usr/local/lib/python3.12/dist-packages (from google-cloud-storage->earthengine-api>=0.1.347->geemap==0.32.1) (2.4.3)\n",
            "Requirement already satisfied: google-resumable-media>=2.7.2 in /usr/local/lib/python3.12/dist-packages (from google-cloud-storage->earthengine-api>=0.1.347->geemap==0.32.1) (2.7.2)\n",
            "Requirement already satisfied: google-crc32c<2.0dev,>=1.0 in /usr/local/lib/python3.12/dist-packages (from google-cloud-storage->earthengine-api>=0.1.347->geemap==0.32.1) (1.7.1)\n",
            "Requirement already satisfied: charset_normalizer<4,>=2 in /usr/local/lib/python3.12/dist-packages (from requests->earthengine-api>=0.1.347->geemap==0.32.1) (3.4.3)\n",
            "Requirement already satisfied: idna<4,>=2.5 in /usr/local/lib/python3.12/dist-packages (from requests->earthengine-api>=0.1.347->geemap==0.32.1) (3.10)\n",
            "Requirement already satisfied: urllib3<3,>=1.21.1 in /usr/local/lib/python3.12/dist-packages (from requests->earthengine-api>=0.1.347->geemap==0.32.1) (2.5.0)\n",
            "Requirement already satisfied: certifi>=2017.4.17 in /usr/local/lib/python3.12/dist-packages (from requests->earthengine-api>=0.1.347->geemap==0.32.1) (2025.8.3)\n",
            "Requirement already satisfied: decorator in /usr/local/lib/python3.12/dist-packages (from ratelim->geocoder->geemap==0.32.1) (4.4.2)\n",
            "Requirement already satisfied: googleapis-common-protos<2.0.0,>=1.56.2 in /usr/local/lib/python3.12/dist-packages (from google-api-core!=2.0.*,!=2.1.*,!=2.2.*,!=2.3.0,<3.0.0,>=1.31.5->google-api-python-client>=1.12.1->earthengine-api>=0.1.347->geemap==0.32.1) (1.70.0)\n",
            "Requirement already satisfied: protobuf!=3.20.0,!=3.20.1,!=4.21.0,!=4.21.1,!=4.21.2,!=4.21.3,!=4.21.4,!=4.21.5,<7.0.0,>=3.19.5 in /usr/local/lib/python3.12/dist-packages (from google-api-core!=2.0.*,!=2.1.*,!=2.2.*,!=2.3.0,<3.0.0,>=1.31.5->google-api-python-client>=1.12.1->earthengine-api>=0.1.347->geemap==0.32.1) (5.29.5)\n",
            "Requirement already satisfied: proto-plus<2.0.0,>=1.22.3 in /usr/local/lib/python3.12/dist-packages (from google-api-core!=2.0.*,!=2.1.*,!=2.2.*,!=2.3.0,<3.0.0,>=1.31.5->google-api-python-client>=1.12.1->earthengine-api>=0.1.347->geemap==0.32.1) (1.26.1)\n",
            "Requirement already satisfied: debugpy>=1.0 in /usr/local/lib/python3.12/dist-packages (from ipykernel>=4.5.1->ipywidgets<9,>=7.6.0->ipyleaflet==0.18.2->geemap==0.32.1) (1.8.15)\n",
            "Requirement already satisfied: jupyter-client>=6.1.12 in /usr/local/lib/python3.12/dist-packages (from ipykernel>=4.5.1->ipywidgets<9,>=7.6.0->ipyleaflet==0.18.2->geemap==0.32.1) (7.4.9)\n",
            "Requirement already satisfied: matplotlib-inline>=0.1 in /usr/local/lib/python3.12/dist-packages (from ipykernel>=4.5.1->ipywidgets<9,>=7.6.0->ipyleaflet==0.18.2->geemap==0.32.1) (0.1.7)\n",
            "Requirement already satisfied: nest-asyncio in /usr/local/lib/python3.12/dist-packages (from ipykernel>=4.5.1->ipywidgets<9,>=7.6.0->ipyleaflet==0.18.2->geemap==0.32.1) (1.6.0)\n",
            "Requirement already satisfied: psutil in /usr/local/lib/python3.12/dist-packages (from ipykernel>=4.5.1->ipywidgets<9,>=7.6.0->ipyleaflet==0.18.2->geemap==0.32.1) (5.9.5)\n",
            "Requirement already satisfied: pyzmq>=17 in /usr/local/lib/python3.12/dist-packages (from ipykernel>=4.5.1->ipywidgets<9,>=7.6.0->ipyleaflet==0.18.2->geemap==0.32.1) (26.2.1)\n",
            "Requirement already satisfied: tornado>=6.1 in /usr/local/lib/python3.12/dist-packages (from ipykernel>=4.5.1->ipywidgets<9,>=7.6.0->ipyleaflet==0.18.2->geemap==0.32.1) (6.4.2)\n",
            "Requirement already satisfied: setuptools>=18.5 in /usr/local/lib/python3.12/dist-packages (from ipython>=4.0.0->ipywidgets<9,>=7.6.0->ipyleaflet==0.18.2->geemap==0.32.1) (75.2.0)\n",
            "Collecting jedi>=0.16 (from ipython>=4.0.0->ipywidgets<9,>=7.6.0->ipyleaflet==0.18.2->geemap==0.32.1)\n",
            "  Downloading jedi-0.19.2-py2.py3-none-any.whl.metadata (22 kB)\n",
            "Requirement already satisfied: pickleshare in /usr/local/lib/python3.12/dist-packages (from ipython>=4.0.0->ipywidgets<9,>=7.6.0->ipyleaflet==0.18.2->geemap==0.32.1) (0.7.5)\n",
            "Requirement already satisfied: prompt-toolkit!=3.0.0,!=3.0.1,<3.1.0,>=2.0.0 in /usr/local/lib/python3.12/dist-packages (from ipython>=4.0.0->ipywidgets<9,>=7.6.0->ipyleaflet==0.18.2->geemap==0.32.1) (3.0.52)\n",
            "Requirement already satisfied: pygments in /usr/local/lib/python3.12/dist-packages (from ipython>=4.0.0->ipywidgets<9,>=7.6.0->ipyleaflet==0.18.2->geemap==0.32.1) (2.19.2)\n",
            "Requirement already satisfied: backcall in /usr/local/lib/python3.12/dist-packages (from ipython>=4.0.0->ipywidgets<9,>=7.6.0->ipyleaflet==0.18.2->geemap==0.32.1) (0.2.0)\n",
            "Requirement already satisfied: pexpect>4.3 in /usr/local/lib/python3.12/dist-packages (from ipython>=4.0.0->ipywidgets<9,>=7.6.0->ipyleaflet==0.18.2->geemap==0.32.1) (4.9.0)\n",
            "Requirement already satisfied: pyasn1<0.7.0,>=0.6.1 in /usr/local/lib/python3.12/dist-packages (from pyasn1-modules>=0.2.1->google-auth>=1.4.1->earthengine-api>=0.1.347->geemap==0.32.1) (0.6.1)\n",
            "Requirement already satisfied: notebook>=4.4.1 in /usr/local/lib/python3.12/dist-packages (from widgetsnbextension~=3.6.0->ipywidgets<9,>=7.6.0->ipyleaflet==0.18.2->geemap==0.32.1) (6.5.7)\n",
            "Requirement already satisfied: parso<0.9.0,>=0.8.4 in /usr/local/lib/python3.12/dist-packages (from jedi>=0.16->ipython>=4.0.0->ipywidgets<9,>=7.6.0->ipyleaflet==0.18.2->geemap==0.32.1) (0.8.5)\n",
            "Requirement already satisfied: entrypoints in /usr/local/lib/python3.12/dist-packages (from jupyter-client>=6.1.12->ipykernel>=4.5.1->ipywidgets<9,>=7.6.0->ipyleaflet==0.18.2->geemap==0.32.1) (0.4)\n",
            "Requirement already satisfied: jupyter-core>=4.9.2 in /usr/local/lib/python3.12/dist-packages (from jupyter-client>=6.1.12->ipykernel>=4.5.1->ipywidgets<9,>=7.6.0->ipyleaflet==0.18.2->geemap==0.32.1) (5.8.1)\n",
            "Requirement already satisfied: argon2-cffi in /usr/local/lib/python3.12/dist-packages (from notebook>=4.4.1->widgetsnbextension~=3.6.0->ipywidgets<9,>=7.6.0->ipyleaflet==0.18.2->geemap==0.32.1) (25.1.0)\n",
            "Requirement already satisfied: nbformat in /usr/local/lib/python3.12/dist-packages (from notebook>=4.4.1->widgetsnbextension~=3.6.0->ipywidgets<9,>=7.6.0->ipyleaflet==0.18.2->geemap==0.32.1) (5.10.4)\n",
            "Requirement already satisfied: nbconvert>=5 in /usr/local/lib/python3.12/dist-packages (from notebook>=4.4.1->widgetsnbextension~=3.6.0->ipywidgets<9,>=7.6.0->ipyleaflet==0.18.2->geemap==0.32.1) (7.16.6)\n",
            "Requirement already satisfied: Send2Trash>=1.8.0 in /usr/local/lib/python3.12/dist-packages (from notebook>=4.4.1->widgetsnbextension~=3.6.0->ipywidgets<9,>=7.6.0->ipyleaflet==0.18.2->geemap==0.32.1) (1.8.3)\n",
            "Requirement already satisfied: terminado>=0.8.3 in /usr/local/lib/python3.12/dist-packages (from notebook>=4.4.1->widgetsnbextension~=3.6.0->ipywidgets<9,>=7.6.0->ipyleaflet==0.18.2->geemap==0.32.1) (0.18.1)\n",
            "Requirement already satisfied: prometheus-client in /usr/local/lib/python3.12/dist-packages (from notebook>=4.4.1->widgetsnbextension~=3.6.0->ipywidgets<9,>=7.6.0->ipyleaflet==0.18.2->geemap==0.32.1) (0.22.1)\n",
            "Requirement already satisfied: nbclassic>=0.4.7 in /usr/local/lib/python3.12/dist-packages (from notebook>=4.4.1->widgetsnbextension~=3.6.0->ipywidgets<9,>=7.6.0->ipyleaflet==0.18.2->geemap==0.32.1) (1.3.2)\n",
            "Requirement already satisfied: ptyprocess>=0.5 in /usr/local/lib/python3.12/dist-packages (from pexpect>4.3->ipython>=4.0.0->ipywidgets<9,>=7.6.0->ipyleaflet==0.18.2->geemap==0.32.1) (0.7.0)\n",
            "Requirement already satisfied: wcwidth in /usr/local/lib/python3.12/dist-packages (from prompt-toolkit!=3.0.0,!=3.0.1,<3.1.0,>=2.0.0->ipython>=4.0.0->ipywidgets<9,>=7.6.0->ipyleaflet==0.18.2->geemap==0.32.1) (0.2.13)\n",
            "Requirement already satisfied: platformdirs>=2.5 in /usr/local/lib/python3.12/dist-packages (from jupyter-core>=4.9.2->jupyter-client>=6.1.12->ipykernel>=4.5.1->ipywidgets<9,>=7.6.0->ipyleaflet==0.18.2->geemap==0.32.1) (4.4.0)\n",
            "Requirement already satisfied: notebook-shim>=0.2.3 in /usr/local/lib/python3.12/dist-packages (from nbclassic>=0.4.7->notebook>=4.4.1->widgetsnbextension~=3.6.0->ipywidgets<9,>=7.6.0->ipyleaflet==0.18.2->geemap==0.32.1) (0.2.4)\n",
            "Requirement already satisfied: beautifulsoup4 in /usr/local/lib/python3.12/dist-packages (from nbconvert>=5->notebook>=4.4.1->widgetsnbextension~=3.6.0->ipywidgets<9,>=7.6.0->ipyleaflet==0.18.2->geemap==0.32.1) (4.13.5)\n",
            "Requirement already satisfied: bleach!=5.0.0 in /usr/local/lib/python3.12/dist-packages (from bleach[css]!=5.0.0->nbconvert>=5->notebook>=4.4.1->widgetsnbextension~=3.6.0->ipywidgets<9,>=7.6.0->ipyleaflet==0.18.2->geemap==0.32.1) (6.2.0)\n",
            "Requirement already satisfied: defusedxml in /usr/local/lib/python3.12/dist-packages (from nbconvert>=5->notebook>=4.4.1->widgetsnbextension~=3.6.0->ipywidgets<9,>=7.6.0->ipyleaflet==0.18.2->geemap==0.32.1) (0.7.1)\n",
            "Requirement already satisfied: jupyterlab-pygments in /usr/local/lib/python3.12/dist-packages (from nbconvert>=5->notebook>=4.4.1->widgetsnbextension~=3.6.0->ipywidgets<9,>=7.6.0->ipyleaflet==0.18.2->geemap==0.32.1) (0.3.0)\n",
            "Requirement already satisfied: mistune<4,>=2.0.3 in /usr/local/lib/python3.12/dist-packages (from nbconvert>=5->notebook>=4.4.1->widgetsnbextension~=3.6.0->ipywidgets<9,>=7.6.0->ipyleaflet==0.18.2->geemap==0.32.1) (3.1.4)\n",
            "Requirement already satisfied: nbclient>=0.5.0 in /usr/local/lib/python3.12/dist-packages (from nbconvert>=5->notebook>=4.4.1->widgetsnbextension~=3.6.0->ipywidgets<9,>=7.6.0->ipyleaflet==0.18.2->geemap==0.32.1) (0.10.2)\n",
            "Requirement already satisfied: pandocfilters>=1.4.1 in /usr/local/lib/python3.12/dist-packages (from nbconvert>=5->notebook>=4.4.1->widgetsnbextension~=3.6.0->ipywidgets<9,>=7.6.0->ipyleaflet==0.18.2->geemap==0.32.1) (1.5.1)\n",
            "Requirement already satisfied: fastjsonschema>=2.15 in /usr/local/lib/python3.12/dist-packages (from nbformat->notebook>=4.4.1->widgetsnbextension~=3.6.0->ipywidgets<9,>=7.6.0->ipyleaflet==0.18.2->geemap==0.32.1) (2.21.2)\n",
            "Requirement already satisfied: jsonschema>=2.6 in /usr/local/lib/python3.12/dist-packages (from nbformat->notebook>=4.4.1->widgetsnbextension~=3.6.0->ipywidgets<9,>=7.6.0->ipyleaflet==0.18.2->geemap==0.32.1) (4.25.1)\n",
            "Requirement already satisfied: argon2-cffi-bindings in /usr/local/lib/python3.12/dist-packages (from argon2-cffi->notebook>=4.4.1->widgetsnbextension~=3.6.0->ipywidgets<9,>=7.6.0->ipyleaflet==0.18.2->geemap==0.32.1) (25.1.0)\n",
            "Requirement already satisfied: webencodings in /usr/local/lib/python3.12/dist-packages (from bleach!=5.0.0->bleach[css]!=5.0.0->nbconvert>=5->notebook>=4.4.1->widgetsnbextension~=3.6.0->ipywidgets<9,>=7.6.0->ipyleaflet==0.18.2->geemap==0.32.1) (0.5.1)\n",
            "Requirement already satisfied: tinycss2<1.5,>=1.1.0 in /usr/local/lib/python3.12/dist-packages (from bleach[css]!=5.0.0->nbconvert>=5->notebook>=4.4.1->widgetsnbextension~=3.6.0->ipywidgets<9,>=7.6.0->ipyleaflet==0.18.2->geemap==0.32.1) (1.4.0)\n",
            "Requirement already satisfied: attrs>=22.2.0 in /usr/local/lib/python3.12/dist-packages (from jsonschema>=2.6->nbformat->notebook>=4.4.1->widgetsnbextension~=3.6.0->ipywidgets<9,>=7.6.0->ipyleaflet==0.18.2->geemap==0.32.1) (25.3.0)\n",
            "Requirement already satisfied: jsonschema-specifications>=2023.03.6 in /usr/local/lib/python3.12/dist-packages (from jsonschema>=2.6->nbformat->notebook>=4.4.1->widgetsnbextension~=3.6.0->ipywidgets<9,>=7.6.0->ipyleaflet==0.18.2->geemap==0.32.1) (2025.9.1)\n",
            "Requirement already satisfied: referencing>=0.28.4 in /usr/local/lib/python3.12/dist-packages (from jsonschema>=2.6->nbformat->notebook>=4.4.1->widgetsnbextension~=3.6.0->ipywidgets<9,>=7.6.0->ipyleaflet==0.18.2->geemap==0.32.1) (0.36.2)\n",
            "Requirement already satisfied: rpds-py>=0.7.1 in /usr/local/lib/python3.12/dist-packages (from jsonschema>=2.6->nbformat->notebook>=4.4.1->widgetsnbextension~=3.6.0->ipywidgets<9,>=7.6.0->ipyleaflet==0.18.2->geemap==0.32.1) (0.27.1)\n",
            "Requirement already satisfied: jupyter-server<3,>=1.8 in /usr/local/lib/python3.12/dist-packages (from notebook-shim>=0.2.3->nbclassic>=0.4.7->notebook>=4.4.1->widgetsnbextension~=3.6.0->ipywidgets<9,>=7.6.0->ipyleaflet==0.18.2->geemap==0.32.1) (2.14.0)\n",
            "Requirement already satisfied: cffi>=1.0.1 in /usr/local/lib/python3.12/dist-packages (from argon2-cffi-bindings->argon2-cffi->notebook>=4.4.1->widgetsnbextension~=3.6.0->ipywidgets<9,>=7.6.0->ipyleaflet==0.18.2->geemap==0.32.1) (2.0.0)\n",
            "Requirement already satisfied: soupsieve>1.2 in /usr/local/lib/python3.12/dist-packages (from beautifulsoup4->nbconvert>=5->notebook>=4.4.1->widgetsnbextension~=3.6.0->ipywidgets<9,>=7.6.0->ipyleaflet==0.18.2->geemap==0.32.1) (2.8)\n",
            "Requirement already satisfied: typing-extensions>=4.0.0 in /usr/local/lib/python3.12/dist-packages (from beautifulsoup4->nbconvert>=5->notebook>=4.4.1->widgetsnbextension~=3.6.0->ipywidgets<9,>=7.6.0->ipyleaflet==0.18.2->geemap==0.32.1) (4.15.0)\n",
            "Requirement already satisfied: pycparser in /usr/local/lib/python3.12/dist-packages (from cffi>=1.0.1->argon2-cffi-bindings->argon2-cffi->notebook>=4.4.1->widgetsnbextension~=3.6.0->ipywidgets<9,>=7.6.0->ipyleaflet==0.18.2->geemap==0.32.1) (2.23)\n",
            "Requirement already satisfied: anyio>=3.1.0 in /usr/local/lib/python3.12/dist-packages (from jupyter-server<3,>=1.8->notebook-shim>=0.2.3->nbclassic>=0.4.7->notebook>=4.4.1->widgetsnbextension~=3.6.0->ipywidgets<9,>=7.6.0->ipyleaflet==0.18.2->geemap==0.32.1) (4.10.0)\n",
            "Requirement already satisfied: jupyter-events>=0.9.0 in /usr/local/lib/python3.12/dist-packages (from jupyter-server<3,>=1.8->notebook-shim>=0.2.3->nbclassic>=0.4.7->notebook>=4.4.1->widgetsnbextension~=3.6.0->ipywidgets<9,>=7.6.0->ipyleaflet==0.18.2->geemap==0.32.1) (0.12.0)\n",
            "Requirement already satisfied: jupyter-server-terminals>=0.4.4 in /usr/local/lib/python3.12/dist-packages (from jupyter-server<3,>=1.8->notebook-shim>=0.2.3->nbclassic>=0.4.7->notebook>=4.4.1->widgetsnbextension~=3.6.0->ipywidgets<9,>=7.6.0->ipyleaflet==0.18.2->geemap==0.32.1) (0.5.3)\n",
            "Requirement already satisfied: overrides>=5.0 in /usr/local/lib/python3.12/dist-packages (from jupyter-server<3,>=1.8->notebook-shim>=0.2.3->nbclassic>=0.4.7->notebook>=4.4.1->widgetsnbextension~=3.6.0->ipywidgets<9,>=7.6.0->ipyleaflet==0.18.2->geemap==0.32.1) (7.7.0)\n",
            "Requirement already satisfied: websocket-client>=1.7 in /usr/local/lib/python3.12/dist-packages (from jupyter-server<3,>=1.8->notebook-shim>=0.2.3->nbclassic>=0.4.7->notebook>=4.4.1->widgetsnbextension~=3.6.0->ipywidgets<9,>=7.6.0->ipyleaflet==0.18.2->geemap==0.32.1) (1.8.0)\n",
            "Requirement already satisfied: sniffio>=1.1 in /usr/local/lib/python3.12/dist-packages (from anyio>=3.1.0->jupyter-server<3,>=1.8->notebook-shim>=0.2.3->nbclassic>=0.4.7->notebook>=4.4.1->widgetsnbextension~=3.6.0->ipywidgets<9,>=7.6.0->ipyleaflet==0.18.2->geemap==0.32.1) (1.3.1)\n",
            "Requirement already satisfied: python-json-logger>=2.0.4 in /usr/local/lib/python3.12/dist-packages (from jupyter-events>=0.9.0->jupyter-server<3,>=1.8->notebook-shim>=0.2.3->nbclassic>=0.4.7->notebook>=4.4.1->widgetsnbextension~=3.6.0->ipywidgets<9,>=7.6.0->ipyleaflet==0.18.2->geemap==0.32.1) (3.3.0)\n",
            "Requirement already satisfied: pyyaml>=5.3 in /usr/local/lib/python3.12/dist-packages (from jupyter-events>=0.9.0->jupyter-server<3,>=1.8->notebook-shim>=0.2.3->nbclassic>=0.4.7->notebook>=4.4.1->widgetsnbextension~=3.6.0->ipywidgets<9,>=7.6.0->ipyleaflet==0.18.2->geemap==0.32.1) (6.0.2)\n",
            "Requirement already satisfied: rfc3339-validator in /usr/local/lib/python3.12/dist-packages (from jupyter-events>=0.9.0->jupyter-server<3,>=1.8->notebook-shim>=0.2.3->nbclassic>=0.4.7->notebook>=4.4.1->widgetsnbextension~=3.6.0->ipywidgets<9,>=7.6.0->ipyleaflet==0.18.2->geemap==0.32.1) (0.1.4)\n",
            "Requirement already satisfied: rfc3986-validator>=0.1.1 in /usr/local/lib/python3.12/dist-packages (from jupyter-events>=0.9.0->jupyter-server<3,>=1.8->notebook-shim>=0.2.3->nbclassic>=0.4.7->notebook>=4.4.1->widgetsnbextension~=3.6.0->ipywidgets<9,>=7.6.0->ipyleaflet==0.18.2->geemap==0.32.1) (0.1.1)\n",
            "Requirement already satisfied: fqdn in /usr/local/lib/python3.12/dist-packages (from jsonschema[format-nongpl]>=4.18.0->jupyter-events>=0.9.0->jupyter-server<3,>=1.8->notebook-shim>=0.2.3->nbclassic>=0.4.7->notebook>=4.4.1->widgetsnbextension~=3.6.0->ipywidgets<9,>=7.6.0->ipyleaflet==0.18.2->geemap==0.32.1) (1.5.1)\n",
            "Requirement already satisfied: isoduration in /usr/local/lib/python3.12/dist-packages (from jsonschema[format-nongpl]>=4.18.0->jupyter-events>=0.9.0->jupyter-server<3,>=1.8->notebook-shim>=0.2.3->nbclassic>=0.4.7->notebook>=4.4.1->widgetsnbextension~=3.6.0->ipywidgets<9,>=7.6.0->ipyleaflet==0.18.2->geemap==0.32.1) (20.11.0)\n",
            "Requirement already satisfied: jsonpointer>1.13 in /usr/local/lib/python3.12/dist-packages (from jsonschema[format-nongpl]>=4.18.0->jupyter-events>=0.9.0->jupyter-server<3,>=1.8->notebook-shim>=0.2.3->nbclassic>=0.4.7->notebook>=4.4.1->widgetsnbextension~=3.6.0->ipywidgets<9,>=7.6.0->ipyleaflet==0.18.2->geemap==0.32.1) (3.0.0)\n",
            "Requirement already satisfied: rfc3987-syntax>=1.1.0 in /usr/local/lib/python3.12/dist-packages (from jsonschema[format-nongpl]>=4.18.0->jupyter-events>=0.9.0->jupyter-server<3,>=1.8->notebook-shim>=0.2.3->nbclassic>=0.4.7->notebook>=4.4.1->widgetsnbextension~=3.6.0->ipywidgets<9,>=7.6.0->ipyleaflet==0.18.2->geemap==0.32.1) (1.1.0)\n",
            "Requirement already satisfied: uri-template in /usr/local/lib/python3.12/dist-packages (from jsonschema[format-nongpl]>=4.18.0->jupyter-events>=0.9.0->jupyter-server<3,>=1.8->notebook-shim>=0.2.3->nbclassic>=0.4.7->notebook>=4.4.1->widgetsnbextension~=3.6.0->ipywidgets<9,>=7.6.0->ipyleaflet==0.18.2->geemap==0.32.1) (1.3.0)\n",
            "Requirement already satisfied: webcolors>=24.6.0 in /usr/local/lib/python3.12/dist-packages (from jsonschema[format-nongpl]>=4.18.0->jupyter-events>=0.9.0->jupyter-server<3,>=1.8->notebook-shim>=0.2.3->nbclassic>=0.4.7->notebook>=4.4.1->widgetsnbextension~=3.6.0->ipywidgets<9,>=7.6.0->ipyleaflet==0.18.2->geemap==0.32.1) (24.11.1)\n",
            "Requirement already satisfied: lark>=1.2.2 in /usr/local/lib/python3.12/dist-packages (from rfc3987-syntax>=1.1.0->jsonschema[format-nongpl]>=4.18.0->jupyter-events>=0.9.0->jupyter-server<3,>=1.8->notebook-shim>=0.2.3->nbclassic>=0.4.7->notebook>=4.4.1->widgetsnbextension~=3.6.0->ipywidgets<9,>=7.6.0->ipyleaflet==0.18.2->geemap==0.32.1) (1.2.2)\n",
            "Requirement already satisfied: arrow>=0.15.0 in /usr/local/lib/python3.12/dist-packages (from isoduration->jsonschema[format-nongpl]>=4.18.0->jupyter-events>=0.9.0->jupyter-server<3,>=1.8->notebook-shim>=0.2.3->nbclassic>=0.4.7->notebook>=4.4.1->widgetsnbextension~=3.6.0->ipywidgets<9,>=7.6.0->ipyleaflet==0.18.2->geemap==0.32.1) (1.3.0)\n",
            "Requirement already satisfied: types-python-dateutil>=2.8.10 in /usr/local/lib/python3.12/dist-packages (from arrow>=0.15.0->isoduration->jsonschema[format-nongpl]>=4.18.0->jupyter-events>=0.9.0->jupyter-server<3,>=1.8->notebook-shim>=0.2.3->nbclassic>=0.4.7->notebook>=4.4.1->widgetsnbextension~=3.6.0->ipywidgets<9,>=7.6.0->ipyleaflet==0.18.2->geemap==0.32.1) (2.9.0.20250822)\n",
            "Downloading geemap-0.32.1-py2.py3-none-any.whl (2.2 MB)\n",
            "\u001b[2K   \u001b[90m━━━━━━━━━━━━━━━━━━━━━━━━━━━━━━━━━━━━━━━━\u001b[0m \u001b[32m2.2/2.2 MB\u001b[0m \u001b[31m50.4 MB/s\u001b[0m eta \u001b[36m0:00:00\u001b[0m\n",
            "\u001b[?25hDownloading ipyleaflet-0.18.2-py3-none-any.whl (3.7 MB)\n",
            "\u001b[2K   \u001b[90m━━━━━━━━━━━━━━━━━━━━━━━━━━━━━━━━━━━━━━━━\u001b[0m \u001b[32m3.7/3.7 MB\u001b[0m \u001b[31m88.6 MB/s\u001b[0m eta \u001b[36m0:00:00\u001b[0m\n",
            "\u001b[?25hDownloading jedi-0.19.2-py2.py3-none-any.whl (1.6 MB)\n",
            "\u001b[2K   \u001b[90m━━━━━━━━━━━━━━━━━━━━━━━━━━━━━━━━━━━━━━━━\u001b[0m \u001b[32m1.6/1.6 MB\u001b[0m \u001b[31m73.5 MB/s\u001b[0m eta \u001b[36m0:00:00\u001b[0m\n",
            "\u001b[?25hInstalling collected packages: jedi, ipyleaflet, geemap\n",
            "  Attempting uninstall: ipyleaflet\n",
            "    Found existing installation: ipyleaflet 0.20.0\n",
            "    Uninstalling ipyleaflet-0.20.0:\n",
            "      Successfully uninstalled ipyleaflet-0.20.0\n",
            "  Attempting uninstall: geemap\n",
            "    Found existing installation: geemap 0.35.3\n",
            "    Uninstalling geemap-0.35.3:\n",
            "      Successfully uninstalled geemap-0.35.3\n",
            "Successfully installed geemap-0.32.1 ipyleaflet-0.18.2 jedi-0.19.2\n",
            "Collecting pycrs\n",
            "  Downloading PyCRS-1.0.2.tar.gz (36 kB)\n",
            "  Preparing metadata (setup.py) ... \u001b[?25l\u001b[?25hdone\n",
            "Collecting rasterio\n",
            "  Downloading rasterio-1.4.3-cp312-cp312-manylinux_2_17_x86_64.manylinux2014_x86_64.whl.metadata (9.1 kB)\n",
            "Collecting python-pptx\n",
            "  Downloading python_pptx-1.0.2-py3-none-any.whl.metadata (2.5 kB)\n",
            "Collecting cartopy\n",
            "  Downloading cartopy-0.25.0-cp312-cp312-manylinux_2_24_x86_64.manylinux_2_28_x86_64.whl.metadata (6.1 kB)\n",
            "Collecting affine (from rasterio)\n",
            "  Downloading affine-2.4.0-py3-none-any.whl.metadata (4.0 kB)\n",
            "Requirement already satisfied: attrs in /usr/local/lib/python3.12/dist-packages (from rasterio) (25.3.0)\n",
            "Requirement already satisfied: certifi in /usr/local/lib/python3.12/dist-packages (from rasterio) (2025.8.3)\n",
            "Requirement already satisfied: click>=4.0 in /usr/local/lib/python3.12/dist-packages (from rasterio) (8.2.1)\n",
            "Collecting cligj>=0.5 (from rasterio)\n",
            "  Downloading cligj-0.7.2-py3-none-any.whl.metadata (5.0 kB)\n",
            "Requirement already satisfied: numpy>=1.24 in /usr/local/lib/python3.12/dist-packages (from rasterio) (2.0.2)\n",
            "Collecting click-plugins (from rasterio)\n",
            "  Downloading click_plugins-1.1.1.2-py2.py3-none-any.whl.metadata (6.5 kB)\n",
            "Requirement already satisfied: pyparsing in /usr/local/lib/python3.12/dist-packages (from rasterio) (3.2.3)\n",
            "Requirement already satisfied: Pillow>=3.3.2 in /usr/local/lib/python3.12/dist-packages (from python-pptx) (11.3.0)\n",
            "Collecting XlsxWriter>=0.5.7 (from python-pptx)\n",
            "  Downloading xlsxwriter-3.2.9-py3-none-any.whl.metadata (2.7 kB)\n",
            "Requirement already satisfied: lxml>=3.1.0 in /usr/local/lib/python3.12/dist-packages (from python-pptx) (5.4.0)\n",
            "Requirement already satisfied: typing-extensions>=4.9.0 in /usr/local/lib/python3.12/dist-packages (from python-pptx) (4.15.0)\n",
            "Requirement already satisfied: matplotlib>=3.6 in /usr/local/lib/python3.12/dist-packages (from cartopy) (3.10.0)\n",
            "Requirement already satisfied: shapely>=2.0 in /usr/local/lib/python3.12/dist-packages (from cartopy) (2.1.1)\n",
            "Requirement already satisfied: packaging>=21 in /usr/local/lib/python3.12/dist-packages (from cartopy) (25.0)\n",
            "Requirement already satisfied: pyshp>=2.3 in /usr/local/lib/python3.12/dist-packages (from cartopy) (2.3.1)\n",
            "Requirement already satisfied: pyproj>=3.3.1 in /usr/local/lib/python3.12/dist-packages (from cartopy) (3.7.2)\n",
            "Requirement already satisfied: contourpy>=1.0.1 in /usr/local/lib/python3.12/dist-packages (from matplotlib>=3.6->cartopy) (1.3.3)\n",
            "Requirement already satisfied: cycler>=0.10 in /usr/local/lib/python3.12/dist-packages (from matplotlib>=3.6->cartopy) (0.12.1)\n",
            "Requirement already satisfied: fonttools>=4.22.0 in /usr/local/lib/python3.12/dist-packages (from matplotlib>=3.6->cartopy) (4.59.2)\n",
            "Requirement already satisfied: kiwisolver>=1.3.1 in /usr/local/lib/python3.12/dist-packages (from matplotlib>=3.6->cartopy) (1.4.9)\n",
            "Requirement already satisfied: python-dateutil>=2.7 in /usr/local/lib/python3.12/dist-packages (from matplotlib>=3.6->cartopy) (2.9.0.post0)\n",
            "Requirement already satisfied: six>=1.5 in /usr/local/lib/python3.12/dist-packages (from python-dateutil>=2.7->matplotlib>=3.6->cartopy) (1.17.0)\n",
            "Downloading rasterio-1.4.3-cp312-cp312-manylinux_2_17_x86_64.manylinux2014_x86_64.whl (22.3 MB)\n",
            "\u001b[2K   \u001b[90m━━━━━━━━━━━━━━━━━━━━━━━━━━━━━━━━━━━━━━━━\u001b[0m \u001b[32m22.3/22.3 MB\u001b[0m \u001b[31m87.4 MB/s\u001b[0m eta \u001b[36m0:00:00\u001b[0m\n",
            "\u001b[?25hDownloading python_pptx-1.0.2-py3-none-any.whl (472 kB)\n",
            "\u001b[2K   \u001b[90m━━━━━━━━━━━━━━━━━━━━━━━━━━━━━━━━━━━━━━━━\u001b[0m \u001b[32m472.8/472.8 kB\u001b[0m \u001b[31m34.4 MB/s\u001b[0m eta \u001b[36m0:00:00\u001b[0m\n",
            "\u001b[?25hDownloading cartopy-0.25.0-cp312-cp312-manylinux_2_24_x86_64.manylinux_2_28_x86_64.whl (11.8 MB)\n",
            "\u001b[2K   \u001b[90m━━━━━━━━━━━━━━━━━━━━━━━━━━━━━━━━━━━━━━━━\u001b[0m \u001b[32m11.8/11.8 MB\u001b[0m \u001b[31m106.8 MB/s\u001b[0m eta \u001b[36m0:00:00\u001b[0m\n",
            "\u001b[?25hDownloading cligj-0.7.2-py3-none-any.whl (7.1 kB)\n",
            "Downloading xlsxwriter-3.2.9-py3-none-any.whl (175 kB)\n",
            "\u001b[2K   \u001b[90m━━━━━━━━━━━━━━━━━━━━━━━━━━━━━━━━━━━━━━━━\u001b[0m \u001b[32m175.3/175.3 kB\u001b[0m \u001b[31m15.2 MB/s\u001b[0m eta \u001b[36m0:00:00\u001b[0m\n",
            "\u001b[?25hDownloading affine-2.4.0-py3-none-any.whl (15 kB)\n",
            "Downloading click_plugins-1.1.1.2-py2.py3-none-any.whl (11 kB)\n",
            "Building wheels for collected packages: pycrs\n",
            "  Building wheel for pycrs (setup.py) ... \u001b[?25l\u001b[?25hdone\n",
            "  Created wheel for pycrs: filename=PyCRS-1.0.2-py3-none-any.whl size=32686 sha256=ca2f8277a443c4b27691123336e860e6c7c62b93fc7fc2a875d629e0de551017\n",
            "  Stored in directory: /root/.cache/pip/wheels/b5/4a/72/1ba05f57ddf2cc80ad21a26512097762561d646ff3ff85f729\n",
            "Successfully built pycrs\n",
            "Installing collected packages: pycrs, XlsxWriter, cligj, click-plugins, affine, rasterio, python-pptx, cartopy\n",
            "Successfully installed XlsxWriter-3.2.9 affine-2.4.0 cartopy-0.25.0 click-plugins-1.1.1.2 cligj-0.7.2 pycrs-1.0.2 python-pptx-1.0.2 rasterio-1.4.3\n"
          ]
        }
      ],
      "source": [
        "# Install the libraries\n",
        "%pip install geemap==0.32.1 #specifying version because latest (0.33.0) has a bug (15-Jul-2024)\n",
        "%pip install pycrs rasterio python-pptx cartopy\n"
      ]
    },
    {
      "cell_type": "code",
      "source": [
        "%pip install arcgis"
      ],
      "metadata": {
        "id": "Wh8HhakQ7Yc1",
        "outputId": "70a5a41a-cd7a-49ce-cd25-2125b98bd27b",
        "colab": {
          "base_uri": "https://localhost:8080/",
          "height": 1000
        }
      },
      "execution_count": 11,
      "outputs": [
        {
          "output_type": "display_data",
          "data": {
            "text/plain": [
              "<IPython.core.display.HTML object>"
            ],
            "text/html": [
              "\n",
              "            <style>\n",
              "                .geemap-dark {\n",
              "                    --jp-widgets-color: white;\n",
              "                    --jp-widgets-label-color: white;\n",
              "                    --jp-ui-font-color1: white;\n",
              "                    --jp-layout-color2: #454545;\n",
              "                    background-color: #383838;\n",
              "                }\n",
              "\n",
              "                .geemap-dark .jupyter-button {\n",
              "                    --jp-layout-color3: #383838;\n",
              "                }\n",
              "\n",
              "                .geemap-colab {\n",
              "                    background-color: var(--colab-primary-surface-color, white);\n",
              "                }\n",
              "\n",
              "                .geemap-colab .jupyter-button {\n",
              "                    --jp-layout-color3: var(--colab-primary-surface-color, white);\n",
              "                }\n",
              "            </style>\n",
              "            "
            ]
          },
          "metadata": {}
        },
        {
          "output_type": "stream",
          "name": "stdout",
          "text": [
            "Collecting arcgis\n",
            "  Downloading arcgis-2.4.1.3-py3-none-any.whl.metadata (3.5 kB)\n",
            "Requirement already satisfied: pillow in /usr/local/lib/python3.12/dist-packages (from arcgis) (11.3.0)\n",
            "Requirement already satisfied: urllib3<3,>=2.1.0 in /usr/local/lib/python3.12/dist-packages (from arcgis) (2.5.0)\n",
            "Requirement already satisfied: cachetools in /usr/local/lib/python3.12/dist-packages (from arcgis) (5.5.2)\n",
            "Requirement already satisfied: lxml in /usr/local/lib/python3.12/dist-packages (from arcgis) (5.4.0)\n",
            "Requirement already satisfied: cryptography in /usr/local/lib/python3.12/dist-packages (from arcgis) (43.0.3)\n",
            "Requirement already satisfied: pandas<2.3.0,>=2.0.0 in /usr/local/lib/python3.12/dist-packages (from arcgis) (2.2.2)\n",
            "Collecting numpy<2,>=1.21.6 (from arcgis)\n",
            "  Downloading numpy-1.26.4-cp312-cp312-manylinux_2_17_x86_64.manylinux2014_x86_64.whl.metadata (61 kB)\n",
            "\u001b[2K     \u001b[90m━━━━━━━━━━━━━━━━━━━━━━━━━━━━━━━━━━━━━━━━\u001b[0m \u001b[32m61.0/61.0 kB\u001b[0m \u001b[31m5.3 MB/s\u001b[0m eta \u001b[36m0:00:00\u001b[0m\n",
            "\u001b[?25hRequirement already satisfied: matplotlib in /usr/local/lib/python3.12/dist-packages (from arcgis) (3.10.0)\n",
            "Requirement already satisfied: keyring>=23.3.0 in /usr/local/lib/python3.12/dist-packages (from arcgis) (25.6.0)\n",
            "Collecting pylerc (from arcgis)\n",
            "  Downloading pylerc-4.0.tar.gz (738 kB)\n",
            "\u001b[2K     \u001b[90m━━━━━━━━━━━━━━━━━━━━━━━━━━━━━━━━━━━━━━\u001b[0m \u001b[32m738.5/738.5 kB\u001b[0m \u001b[31m42.0 MB/s\u001b[0m eta \u001b[36m0:00:00\u001b[0m\n",
            "\u001b[?25h  Preparing metadata (setup.py) ... \u001b[?25l\u001b[?25hdone\n",
            "Collecting ujson>=3 (from arcgis)\n",
            "  Downloading ujson-5.11.0-cp312-cp312-manylinux_2_24_x86_64.manylinux_2_28_x86_64.whl.metadata (9.4 kB)\n",
            "Collecting truststore>=0.10.0 (from arcgis)\n",
            "  Downloading truststore-0.10.4-py3-none-any.whl.metadata (4.4 kB)\n",
            "Collecting geomet (from arcgis)\n",
            "  Downloading geomet-1.1.0-py3-none-any.whl.metadata (11 kB)\n",
            "Requirement already satisfied: requests<3,>=2.32.3 in /usr/local/lib/python3.12/dist-packages (from arcgis) (2.32.4)\n",
            "Requirement already satisfied: requests-oauthlib in /usr/local/lib/python3.12/dist-packages (from arcgis) (2.0.0)\n",
            "Requirement already satisfied: requests_toolbelt in /usr/local/lib/python3.12/dist-packages (from arcgis) (1.0.0)\n",
            "Collecting pyspnego>=0.8.0 (from arcgis)\n",
            "  Downloading pyspnego-0.12.0-py3-none-any.whl.metadata (4.1 kB)\n",
            "Collecting dask<2025.1.0,>=2024.12.1 (from dask[dataframe]<2025.1.0,>=2024.12.1->arcgis)\n",
            "  Downloading dask-2024.12.1-py3-none-any.whl.metadata (3.7 kB)\n",
            "Requirement already satisfied: matplotlib-inline in /usr/local/lib/python3.12/dist-packages (from arcgis) (0.1.7)\n",
            "Collecting pyarrow<17,>=16 (from arcgis)\n",
            "  Downloading pyarrow-16.1.0-cp312-cp312-manylinux_2_28_x86_64.whl.metadata (3.0 kB)\n",
            "Collecting puremagic<2,>=1.15 (from arcgis)\n",
            "  Downloading puremagic-1.30-py3-none-any.whl.metadata (5.8 kB)\n",
            "Requirement already satisfied: pydantic<3,>=2.8.2 in /usr/local/lib/python3.12/dist-packages (from arcgis) (2.11.7)\n",
            "Requirement already satisfied: networkx<4,>=3.3 in /usr/local/lib/python3.12/dist-packages (from arcgis) (3.5)\n",
            "Requirement already satisfied: websocket-client<2.0.0,>=1.2.3 in /usr/local/lib/python3.12/dist-packages (from arcgis) (1.8.0)\n",
            "Requirement already satisfied: click>=8.1 in /usr/local/lib/python3.12/dist-packages (from dask<2025.1.0,>=2024.12.1->dask[dataframe]<2025.1.0,>=2024.12.1->arcgis) (8.2.1)\n",
            "Requirement already satisfied: cloudpickle>=3.0.0 in /usr/local/lib/python3.12/dist-packages (from dask<2025.1.0,>=2024.12.1->dask[dataframe]<2025.1.0,>=2024.12.1->arcgis) (3.1.1)\n",
            "Requirement already satisfied: fsspec>=2021.09.0 in /usr/local/lib/python3.12/dist-packages (from dask<2025.1.0,>=2024.12.1->dask[dataframe]<2025.1.0,>=2024.12.1->arcgis) (2025.3.0)\n",
            "Requirement already satisfied: packaging>=20.0 in /usr/local/lib/python3.12/dist-packages (from dask<2025.1.0,>=2024.12.1->dask[dataframe]<2025.1.0,>=2024.12.1->arcgis) (25.0)\n",
            "Requirement already satisfied: partd>=1.4.0 in /usr/local/lib/python3.12/dist-packages (from dask<2025.1.0,>=2024.12.1->dask[dataframe]<2025.1.0,>=2024.12.1->arcgis) (1.4.2)\n",
            "Requirement already satisfied: pyyaml>=5.3.1 in /usr/local/lib/python3.12/dist-packages (from dask<2025.1.0,>=2024.12.1->dask[dataframe]<2025.1.0,>=2024.12.1->arcgis) (6.0.2)\n",
            "Requirement already satisfied: toolz>=0.10.0 in /usr/local/lib/python3.12/dist-packages (from dask<2025.1.0,>=2024.12.1->dask[dataframe]<2025.1.0,>=2024.12.1->arcgis) (0.12.1)\n",
            "Collecting dask-expr<1.2,>=1.1 (from dask[dataframe]<2025.1.0,>=2024.12.1->arcgis)\n",
            "  Downloading dask_expr-1.1.21-py3-none-any.whl.metadata (2.6 kB)\n",
            "Requirement already satisfied: SecretStorage>=3.2 in /usr/local/lib/python3.12/dist-packages (from keyring>=23.3.0->arcgis) (3.4.0)\n",
            "Requirement already satisfied: jeepney>=0.4.2 in /usr/local/lib/python3.12/dist-packages (from keyring>=23.3.0->arcgis) (0.9.0)\n",
            "Requirement already satisfied: jaraco.classes in /usr/local/lib/python3.12/dist-packages (from keyring>=23.3.0->arcgis) (3.4.0)\n",
            "Requirement already satisfied: jaraco.functools in /usr/local/lib/python3.12/dist-packages (from keyring>=23.3.0->arcgis) (4.3.0)\n",
            "Requirement already satisfied: jaraco.context in /usr/local/lib/python3.12/dist-packages (from keyring>=23.3.0->arcgis) (6.0.1)\n",
            "Requirement already satisfied: python-dateutil>=2.8.2 in /usr/local/lib/python3.12/dist-packages (from pandas<2.3.0,>=2.0.0->arcgis) (2.9.0.post0)\n",
            "Requirement already satisfied: pytz>=2020.1 in /usr/local/lib/python3.12/dist-packages (from pandas<2.3.0,>=2.0.0->arcgis) (2025.2)\n",
            "Requirement already satisfied: tzdata>=2022.7 in /usr/local/lib/python3.12/dist-packages (from pandas<2.3.0,>=2.0.0->arcgis) (2025.2)\n",
            "Requirement already satisfied: annotated-types>=0.6.0 in /usr/local/lib/python3.12/dist-packages (from pydantic<3,>=2.8.2->arcgis) (0.7.0)\n",
            "Requirement already satisfied: pydantic-core==2.33.2 in /usr/local/lib/python3.12/dist-packages (from pydantic<3,>=2.8.2->arcgis) (2.33.2)\n",
            "Requirement already satisfied: typing-extensions>=4.12.2 in /usr/local/lib/python3.12/dist-packages (from pydantic<3,>=2.8.2->arcgis) (4.15.0)\n",
            "Requirement already satisfied: typing-inspection>=0.4.0 in /usr/local/lib/python3.12/dist-packages (from pydantic<3,>=2.8.2->arcgis) (0.4.1)\n",
            "Requirement already satisfied: charset_normalizer<4,>=2 in /usr/local/lib/python3.12/dist-packages (from requests<3,>=2.32.3->arcgis) (3.4.3)\n",
            "Requirement already satisfied: idna<4,>=2.5 in /usr/local/lib/python3.12/dist-packages (from requests<3,>=2.32.3->arcgis) (3.10)\n",
            "Requirement already satisfied: certifi>=2017.4.17 in /usr/local/lib/python3.12/dist-packages (from requests<3,>=2.32.3->arcgis) (2025.8.3)\n",
            "Requirement already satisfied: cffi>=1.12 in /usr/local/lib/python3.12/dist-packages (from cryptography->arcgis) (2.0.0)\n",
            "Requirement already satisfied: contourpy>=1.0.1 in /usr/local/lib/python3.12/dist-packages (from matplotlib->arcgis) (1.3.3)\n",
            "Requirement already satisfied: cycler>=0.10 in /usr/local/lib/python3.12/dist-packages (from matplotlib->arcgis) (0.12.1)\n",
            "Requirement already satisfied: fonttools>=4.22.0 in /usr/local/lib/python3.12/dist-packages (from matplotlib->arcgis) (4.59.2)\n",
            "Requirement already satisfied: kiwisolver>=1.3.1 in /usr/local/lib/python3.12/dist-packages (from matplotlib->arcgis) (1.4.9)\n",
            "Requirement already satisfied: pyparsing>=2.3.1 in /usr/local/lib/python3.12/dist-packages (from matplotlib->arcgis) (3.2.3)\n",
            "Requirement already satisfied: traitlets in /usr/local/lib/python3.12/dist-packages (from matplotlib-inline->arcgis) (5.7.1)\n",
            "Requirement already satisfied: oauthlib>=3.0.0 in /usr/local/lib/python3.12/dist-packages (from requests-oauthlib->arcgis) (3.3.1)\n",
            "Requirement already satisfied: pycparser in /usr/local/lib/python3.12/dist-packages (from cffi>=1.12->cryptography->arcgis) (2.23)\n",
            "Requirement already satisfied: locket in /usr/local/lib/python3.12/dist-packages (from partd>=1.4.0->dask<2025.1.0,>=2024.12.1->dask[dataframe]<2025.1.0,>=2024.12.1->arcgis) (1.0.0)\n",
            "Requirement already satisfied: six>=1.5 in /usr/local/lib/python3.12/dist-packages (from python-dateutil>=2.8.2->pandas<2.3.0,>=2.0.0->arcgis) (1.17.0)\n",
            "Requirement already satisfied: more-itertools in /usr/local/lib/python3.12/dist-packages (from jaraco.classes->keyring>=23.3.0->arcgis) (10.8.0)\n",
            "Downloading arcgis-2.4.1.3-py3-none-any.whl (8.0 MB)\n",
            "\u001b[2K   \u001b[90m━━━━━━━━━━━━━━━━━━━━━━━━━━━━━━━━━━━━━━━━\u001b[0m \u001b[32m8.0/8.0 MB\u001b[0m \u001b[31m76.5 MB/s\u001b[0m eta \u001b[36m0:00:00\u001b[0m\n",
            "\u001b[?25hDownloading dask-2024.12.1-py3-none-any.whl (1.3 MB)\n",
            "\u001b[2K   \u001b[90m━━━━━━━━━━━━━━━━━━━━━━━━━━━━━━━━━━━━━━━━\u001b[0m \u001b[32m1.3/1.3 MB\u001b[0m \u001b[31m55.6 MB/s\u001b[0m eta \u001b[36m0:00:00\u001b[0m\n",
            "\u001b[?25hDownloading numpy-1.26.4-cp312-cp312-manylinux_2_17_x86_64.manylinux2014_x86_64.whl (18.0 MB)\n",
            "\u001b[2K   \u001b[90m━━━━━━━━━━━━━━━━━━━━━━━━━━━━━━━━━━━━━━━━\u001b[0m \u001b[32m18.0/18.0 MB\u001b[0m \u001b[31m75.6 MB/s\u001b[0m eta \u001b[36m0:00:00\u001b[0m\n",
            "\u001b[?25hDownloading puremagic-1.30-py3-none-any.whl (43 kB)\n",
            "\u001b[2K   \u001b[90m━━━━━━━━━━━━━━━━━━━━━━━━━━━━━━━━━━━━━━━━\u001b[0m \u001b[32m43.3/43.3 kB\u001b[0m \u001b[31m3.9 MB/s\u001b[0m eta \u001b[36m0:00:00\u001b[0m\n",
            "\u001b[?25hDownloading pyarrow-16.1.0-cp312-cp312-manylinux_2_28_x86_64.whl (40.8 MB)\n",
            "\u001b[2K   \u001b[90m━━━━━━━━━━━━━━━━━━━━━━━━━━━━━━━━━━━━━━━━\u001b[0m \u001b[32m40.8/40.8 MB\u001b[0m \u001b[31m24.0 MB/s\u001b[0m eta \u001b[36m0:00:00\u001b[0m\n",
            "\u001b[?25hDownloading pyspnego-0.12.0-py3-none-any.whl (130 kB)\n",
            "\u001b[2K   \u001b[90m━━━━━━━━━━━━━━━━━━━━━━━━━━━━━━━━━━━━━━━━\u001b[0m \u001b[32m130.2/130.2 kB\u001b[0m \u001b[31m12.5 MB/s\u001b[0m eta \u001b[36m0:00:00\u001b[0m\n",
            "\u001b[?25hDownloading truststore-0.10.4-py3-none-any.whl (18 kB)\n",
            "Downloading ujson-5.11.0-cp312-cp312-manylinux_2_24_x86_64.manylinux_2_28_x86_64.whl (57 kB)\n",
            "\u001b[2K   \u001b[90m━━━━━━━━━━━━━━━━━━━━━━━━━━━━━━━━━━━━━━━━\u001b[0m \u001b[32m57.4/57.4 kB\u001b[0m \u001b[31m5.4 MB/s\u001b[0m eta \u001b[36m0:00:00\u001b[0m\n",
            "\u001b[?25hDownloading geomet-1.1.0-py3-none-any.whl (31 kB)\n",
            "Downloading dask_expr-1.1.21-py3-none-any.whl (244 kB)\n",
            "\u001b[2K   \u001b[90m━━━━━━━━━━━━━━━━━━━━━━━━━━━━━━━━━━━━━━━━\u001b[0m \u001b[32m244.3/244.3 kB\u001b[0m \u001b[31m21.7 MB/s\u001b[0m eta \u001b[36m0:00:00\u001b[0m\n",
            "\u001b[?25hBuilding wheels for collected packages: pylerc\n",
            "  Building wheel for pylerc (setup.py) ... \u001b[?25l\u001b[?25hdone\n",
            "  Created wheel for pylerc: filename=pylerc-4.0-py3-none-any.whl size=738090 sha256=14a4dbcd9c022c5f0c65bc3d9e0117346f8619f0419f745d8e718b896edae46c\n",
            "  Stored in directory: /root/.cache/pip/wheels/fa/44/c1/dee493b5ef79483d0276093205256ae13c97009c847e54c580\n",
            "Successfully built pylerc\n",
            "Installing collected packages: puremagic, ujson, truststore, numpy, geomet, pylerc, pyarrow, dask, pyspnego, dask-expr, arcgis\n",
            "  Attempting uninstall: numpy\n",
            "    Found existing installation: numpy 2.0.2\n",
            "    Uninstalling numpy-2.0.2:\n",
            "      Successfully uninstalled numpy-2.0.2\n",
            "  Attempting uninstall: pyarrow\n",
            "    Found existing installation: pyarrow 18.1.0\n",
            "    Uninstalling pyarrow-18.1.0:\n",
            "      Successfully uninstalled pyarrow-18.1.0\n",
            "  Attempting uninstall: dask\n",
            "    Found existing installation: dask 2025.5.0\n",
            "    Uninstalling dask-2025.5.0:\n",
            "      Successfully uninstalled dask-2025.5.0\n",
            "\u001b[31mERROR: pip's dependency resolver does not currently take into account all the packages that are installed. This behaviour is the source of the following dependency conflicts.\n",
            "thinc 8.3.6 requires numpy<3.0.0,>=2.0.0, but you have numpy 1.26.4 which is incompatible.\n",
            "rapids-dask-dependency 25.6.0 requires dask==2025.5.0, but you have dask 2024.12.1 which is incompatible.\n",
            "opencv-python-headless 4.12.0.88 requires numpy<2.3.0,>=2; python_version >= \"3.9\", but you have numpy 1.26.4 which is incompatible.\n",
            "opencv-python 4.12.0.88 requires numpy<2.3.0,>=2; python_version >= \"3.9\", but you have numpy 1.26.4 which is incompatible.\n",
            "distributed 2025.5.0 requires dask==2025.5.0, but you have dask 2024.12.1 which is incompatible.\n",
            "opencv-contrib-python 4.12.0.88 requires numpy<2.3.0,>=2; python_version >= \"3.9\", but you have numpy 1.26.4 which is incompatible.\u001b[0m\u001b[31m\n",
            "\u001b[0mSuccessfully installed arcgis-2.4.1.3 dask-2024.12.1 dask-expr-1.1.21 geomet-1.1.0 numpy-1.26.4 puremagic-1.30 pyarrow-16.1.0 pylerc-4.0 pyspnego-0.12.0 truststore-0.10.4 ujson-5.11.0\n"
          ]
        },
        {
          "output_type": "display_data",
          "data": {
            "application/vnd.colab-display-data+json": {
              "pip_warning": {
                "packages": [
                  "numpy",
                  "pyarrow"
                ]
              },
              "id": "8820293f46574a89867a30aab084ad42"
            }
          },
          "metadata": {}
        }
      ]
    },
    {
      "cell_type": "code",
      "source": [
        "import re\n",
        "from arcgis.gis import GIS"
      ],
      "metadata": {
        "id": "ECw1gTy-7NF2"
      },
      "execution_count": 2,
      "outputs": []
    },
    {
      "cell_type": "code",
      "source": [
        "# Import the libraries\n",
        "import ee\n",
        "import geemap\n",
        "import os, json, shutil\n",
        "import geopandas\n",
        "from osgeo import gdal\n",
        "from google.colab import files\n",
        "\n",
        "import rasterio\n",
        "from rasterio.plot import show\n",
        "import matplotlib\n",
        "import matplotlib.pyplot as plt\n",
        "from matplotlib.patches import Patch\n",
        "import numpy as np\n",
        "import pandas as pd\n",
        "from pathlib import Path\n",
        "\n",
        "import cartopy.crs as ccrs\n",
        "import cartopy.feature as cfeature\n",
        "\n",
        "from pptx import Presentation\n",
        "from pptx.util import Cm, Inches\n",
        "from pptx.util import Pt"
      ],
      "metadata": {
        "id": "YDrM7Sswf9pQ"
      },
      "execution_count": 7,
      "outputs": []
    },
    {
      "cell_type": "markdown",
      "source": [
        "### Define functions\n",
        "Please inspect the hidden cells by clicking on the sideways arrow by the Define Functions heading and run. The functions were hidden to improve the readibility of the notebook. The hidden cells contain the processing functions for mosaicking, calculating NBR, tiling for export as well as visualization and quality control."
      ],
      "metadata": {
        "id": "LTi0frCUCpkW"
      }
    },
    {
      "cell_type": "code",
      "execution_count": 8,
      "metadata": {
        "id": "vhhl6ZZSLfQ4",
        "cellView": "form",
        "outputId": "7de5333d-0f05-4850-8fa3-77c632abfb30",
        "colab": {
          "base_uri": "https://localhost:8080/",
          "height": 17
        }
      },
      "outputs": [
        {
          "output_type": "display_data",
          "data": {
            "text/plain": [
              "<IPython.core.display.HTML object>"
            ],
            "text/html": [
              "\n",
              "            <style>\n",
              "                .geemap-dark {\n",
              "                    --jp-widgets-color: white;\n",
              "                    --jp-widgets-label-color: white;\n",
              "                    --jp-ui-font-color1: white;\n",
              "                    --jp-layout-color2: #454545;\n",
              "                    background-color: #383838;\n",
              "                }\n",
              "\n",
              "                .geemap-dark .jupyter-button {\n",
              "                    --jp-layout-color3: #383838;\n",
              "                }\n",
              "\n",
              "                .geemap-colab {\n",
              "                    background-color: var(--colab-primary-surface-color, white);\n",
              "                }\n",
              "\n",
              "                .geemap-colab .jupyter-button {\n",
              "                    --jp-layout-color3: var(--colab-primary-surface-color, white);\n",
              "                }\n",
              "            </style>\n",
              "            "
            ]
          },
          "metadata": {}
        }
      ],
      "source": [
        "# @title\n",
        "## Define functions\n",
        "# Helper function to get files, non-recursive\n",
        "def getfiles(d,ext):\n",
        "  paths = []\n",
        "  for file in os.listdir(d):\n",
        "      if file.endswith(ext):\n",
        "          paths.append(os.path.join(d, file))\n",
        "  return(paths)\n",
        "\n",
        "# Helper function to get image acquisition date and format into (\"yyyy-mm-dd\")\n",
        "def getDate(im):\n",
        "  return(ee.Image(im).date().format(\"YYYY-MM-dd\"))\n",
        "\n",
        "# Helper function to get scene ids\n",
        "def getSceneIds(im):\n",
        "  return(ee.Image(im).get('PRODUCT_ID'))\n",
        "\n",
        "# Functions to mosaic by image date\n",
        "def mosaicByDate(indate):\n",
        "  d = ee.Date(indate)\n",
        "  #print(d)\n",
        "  im = col.filterBounds(poly).filterDate(d, d.advance(1, \"day\")).mosaic()\n",
        "  #print(im)\n",
        "  return(im.set(\"system:time_start\", d.millis(), \"system:index\", d.format(\"YYYY-MM-dd\")))\n",
        "\n",
        "def runDateMosaic(col_list):\n",
        "  #get a list of unique dates within the list\n",
        "  date_list = col_list.map(getDate).getInfo()\n",
        "  udates = list(set(date_list))\n",
        "  udates.sort()\n",
        "  udates_ee = ee.List(udates)\n",
        "\n",
        "  #mosaic images by unique date\n",
        "  mosaic_imlist = udates_ee.map(mosaicByDate)\n",
        "  return(ee.ImageCollection(mosaic_imlist))\n",
        "\n",
        "# Calculate NBR using Sentinel-2 imagery\n",
        "def NBR_S2(image):\n",
        "  nbr = image.expression(\n",
        "      '(NIR - SWIR) / (NIR + SWIR)', {\n",
        "          'NIR': image.select('B8'),\n",
        "          'SWIR': image.select('B12')}).rename('nbr')\n",
        "  return(nbr)\n",
        "\n",
        "# Calculate NBR using Landsat imagery\n",
        "# Handles Landsat-5, 7, 8 and 9\n",
        "def NBR_Landsat(image,dattype):\n",
        "  if (dattype == 'L5')|(dattype == 'L7'):\n",
        "      nbr = image.expression(\n",
        "          '(NIR - SWIR) / (NIR + SWIR)', {\n",
        "              'NIR': image.select('SR_B4'),\n",
        "              'SWIR': image.select('SR_B7')}).rename('nbr')\n",
        "  elif (dattype == 'L8')|(dattype == 'L9'):\n",
        "      nbr = image.expression(\n",
        "          '(NIR - SWIR) / (NIR + SWIR)', {\n",
        "              'NIR': image.select('SR_B5'),\n",
        "              'SWIR': image.select('SR_B7')}).rename('nbr')\n",
        "  else:\n",
        "      print('Incorrect Landsat sensor specified')\n",
        "  return(nbr)\n",
        "\n",
        "# Tiling function, uses a geometry (footprint) to split into a defined\n",
        "# number or rows and columns (nx,ny)\n",
        "def grid_footprint(footprint,nx,ny):\n",
        "  from shapely.geometry import Polygon, LineString, MultiPolygon\n",
        "  from shapely.ops import split\n",
        "\n",
        "  #polygon = footprint\n",
        "  polygon = Polygon(footprint['coordinates'][0])\n",
        "  #polygon = Polygon(footprint)\n",
        "\n",
        "  minx, miny, maxx, maxy = polygon.bounds\n",
        "  dx = (maxx - minx) / nx  # width of a small part\n",
        "  dy = (maxy - miny) / ny  # height of a small part\n",
        "\n",
        "  horizontal_splitters = [LineString([(minx, miny + i*dy), (maxx, miny + i*dy)]) for i in range(ny)]\n",
        "  vertical_splitters = [LineString([(minx + i*dx, miny), (minx + i*dx, maxy)]) for i in range(nx)]\n",
        "  splitters = horizontal_splitters + vertical_splitters\n",
        "\n",
        "  result = polygon\n",
        "  for splitter in splitters:\n",
        "      result = MultiPolygon(split(result, splitter))\n",
        "\n",
        "  coord_list = [list(part.exterior.coords) for part in result.geoms]\n",
        "\n",
        "  poly_list = []\n",
        "  for cc in coord_list:\n",
        "      p = ee.Geometry.Polygon(cc)\n",
        "      poly_list.append(p)\n",
        "  return(poly_list)\n",
        "\n",
        "# Applies scaling functors for surface reflectance Landsat imagery\n",
        "def apply_scale_factors_ls(image):\n",
        "  opticalBands = image.select('SR_B.').multiply(0.0000275).add(-0.2)\n",
        "  thermalBands = image.select('ST_B.*').multiply(0.00341802).add(149.0)\n",
        "  return image.addBands(opticalBands, None, True).addBands(thermalBands, None, True)\n",
        "\n",
        "# Multiplies Sentinel-2 imagery by 0.0001\n",
        "def apply_scale_factors_s2(image):\n",
        "  opticalBands = image.select('B.*').multiply(0.0001)\n",
        "  return image.addBands(opticalBands, None, True)\n",
        "\n",
        "### QA Functions ###\n",
        "def ql_3band(outshp,imgpath,outpath):\n",
        "  # Get fire vector\n",
        "  dfs_sub = geopandas.read_file(outshp)\n",
        "\n",
        "  # Read 8-bit image\n",
        "  src = rasterio.open(imgpath)\n",
        "\n",
        "  # Create pre-fire quicklook image with burned area boundary overlay\n",
        "  fig, ax = plt.subplots(figsize=(8, 8)) #10,13\n",
        "  base = show(src,ax=ax)\n",
        "  dfs_sub.plot(ax=base, edgecolor='purple', facecolor='none',linewidth=2)\n",
        "  ax.axis('off')\n",
        "  plt.savefig(outpath, bbox_inches='tight', dpi=300)\n",
        "\n",
        "  plt.close()\n",
        "  src = None\n",
        "\n",
        "def generate_legend_labels(arr):\n",
        "  #sort array\n",
        "  arr.sort()\n",
        "\n",
        "  default_labels = {\n",
        "      0: {\"black\":\"Unknown\"},\n",
        "      1: {\"gray\":\"Unburned\"},\n",
        "      2: {\"yellow\":\"Low\"},\n",
        "      3: {\"orange\":\"Medium\"},\n",
        "      4: {\"red\":\"High\"}\n",
        "  }\n",
        "\n",
        "  legend_labels = {}\n",
        "\n",
        "  for value in arr:\n",
        "      #print(default_labels[value]) #for debug\n",
        "      legend_labels.update(default_labels[value])\n",
        "\n",
        "  return(legend_labels)\n",
        "\n",
        "\n",
        "def ql_barc(outshp,barcpath,imgpath,outpath):\n",
        "  dfs_sub = geopandas.read_file(outshp)\n",
        "\n",
        "  # Read in BARC classification\n",
        "  src = rasterio.open(barcpath)\n",
        "  unique_values = np.unique(src.read(1))\n",
        "\n",
        "  # Read in post-fire image\n",
        "  src1 = rasterio.open(imgpath)\n",
        "\n",
        "  #drop no data 9\n",
        "  arr = unique_values[unique_values!=9]\n",
        "\n",
        "  # Create cmap dictionary\n",
        "  colormap_dict = {0: 'black',\n",
        "                    1: 'gray',\n",
        "                    2: 'yellow',\n",
        "                    3: 'orange',\n",
        "                    4: 'red'}\n",
        "\n",
        "  colormap_unique = [colormap_dict[value] for value in arr]\n",
        "  colormap = matplotlib.colors.ListedColormap(colormap_unique)\n",
        "\n",
        "  # Create pre-fire quicklook image with burned area boundary overlay\n",
        "  fig, ax = plt.subplots(figsize=(8, 8))\n",
        "  background = show((src1,1),ax=ax,cmap='gray')\n",
        "  base = show(src,cmap=colormap,ax=ax)\n",
        "  dfs_sub.plot(ax=base, edgecolor='purple', facecolor='none',linewidth=2)\n",
        "  ax.axis('off')\n",
        "\n",
        "  legend_labels = generate_legend_labels(arr)\n",
        "\n",
        "  patches = [Patch(color=color, label=label)\n",
        "              for color, label in legend_labels.items()]\n",
        "\n",
        "  ax.legend(handles=patches,\n",
        "            bbox_to_anchor=(1.05, 1),loc='upper left',\n",
        "            borderaxespad=0., facecolor=\"white\")\n",
        "\n",
        "\n",
        "  plt.savefig(outpath, bbox_inches='tight', dpi=300)\n",
        "\n",
        "  plt.close()\n",
        "  src = None\n",
        "  src1 = None\n",
        "\n",
        "# Generate quicklooks\n",
        "def generate_ql(outshp,tif_file,qcdir):\n",
        "  name = Path(tif_file).stem + '.png'\n",
        "  ql = os.path.join(qcdir,name)\n",
        "  ql_3band(outshp,tif_file,ql)\n",
        "  return(ql)\n",
        "\n",
        "def create_ppt(pptpath):\n",
        "  prs = Presentation()\n",
        "  prs.slide_width = Inches(16)\n",
        "  prs.slide_height = Inches(9)\n",
        "\n",
        "  prs.save(pptpath)\n",
        "\n",
        "def add_slide(pptpath,i,j,k,l,df):\n",
        "  prs = Presentation(pptpath)\n",
        "  title_only_slide_layout = prs.slide_layouts[5]\n",
        "  slide = prs.slides.add_slide(title_only_slide_layout)\n",
        "  title = slide.shapes.title\n",
        "  title.width = Cm(35)\n",
        "  title.height = Cm(3.3)\n",
        "  title.top = Cm(0)\n",
        "  title.left = Cm(0)\n",
        "\n",
        "  #Add title\n",
        "  name = Path(k).stem\n",
        "  title.text = name\n",
        "\n",
        "  #First image (pre-fire)\n",
        "  slide.shapes.add_picture(\n",
        "      i, left=Cm(0.44), top=Cm(8.2), width=Cm(12.24), height=None\n",
        "  )\n",
        "  #Second image (post_fire)\n",
        "  slide.shapes.add_picture(\n",
        "      j, left=Cm(12.78), top=Cm(8.2), width=Cm(12.24), height=None\n",
        "  )\n",
        "\n",
        "  #get image height\n",
        "  picture = slide.shapes[1] #second shape pre-img, first is the title\n",
        "  height_cm = picture.height.cm\n",
        "  #print(height_cm)\n",
        "\n",
        "  #Third image (barc)\n",
        "  slide.shapes.add_picture(\n",
        "      k, left=Cm(25.02), top=Cm(8.2), width=None, height=Cm(height_cm)\n",
        "  )\n",
        "\n",
        "  #Fourth image (location map)\n",
        "  slide.shapes.add_picture(\n",
        "      l, left=Cm(32.5), top=Cm(0), width=None, height=Cm(7)\n",
        "  )\n",
        "\n",
        "  #add table\n",
        "  rows, cols = df.shape\n",
        "  left = Cm(0.9)\n",
        "  top = Cm(3.2)\n",
        "  width = Cm(16.3)\n",
        "  height = Cm(3.75)\n",
        "\n",
        "  #add table\n",
        "  shape = slide.shapes.add_table(rows + 1, cols, left, top, width, height)\n",
        "  table = shape.table\n",
        "\n",
        "  #assign table style\n",
        "  tbl =  shape._element.graphic.graphicData.tbl\n",
        "  style_id = '{C083E6E3-FA7D-4D7B-A595-EF9225AFEA82}'\n",
        "  tbl[0][-1].text = style_id\n",
        "\n",
        "\n",
        "  # Set column names\n",
        "  for col, column_name in enumerate(df.columns):\n",
        "      cell = table.cell(0, col)\n",
        "      cell.text = column_name\n",
        "      cell.text_frame.paragraphs[0].runs[0].font.size = Pt(11)\n",
        "\n",
        "  # Populate data\n",
        "  for row in range(rows):\n",
        "      for col in range(cols):\n",
        "          cell = table.cell(row + 1, col)\n",
        "          cell.text = str(df.iloc[row, col])\n",
        "\n",
        "  # Change font size\n",
        "  for row in table.rows:\n",
        "      for cell in row.cells:\n",
        "          for paragraph in cell.text_frame.paragraphs:\n",
        "              for run in paragraph.runs:\n",
        "                  run.font.size = Pt(11)\n",
        "\n",
        "  prs.save(pptpath) #this overwrites\n",
        "  print('Presentation saved')\n",
        "\n",
        "def ql_3band_batch(folder,outshp,outfolder):\n",
        "  imglist = getfiles(folder,'.tif')\n",
        "  for imgpath in imglist:\n",
        "      name = Path(imgpath).stem + '.png'\n",
        "      outpath = os.path.join(outfolder,name)\n",
        "      ql_3band(outshp,imgpath,outpath)\n",
        "\n",
        "def add_slides_batch(img_folder,pptpath):\n",
        "  imglist = getfiles(img_folder,'.png')\n",
        "\n",
        "  prs = Presentation(pptpath)\n",
        "  title_only_slide_layout = prs.slide_layouts[5]\n",
        "\n",
        "  for i in imglist:\n",
        "      print(i)\n",
        "      slide = prs.slides.add_slide(title_only_slide_layout)\n",
        "      title = slide.shapes.title\n",
        "      title.width = Cm(35)\n",
        "      title.height = Cm(3.3)\n",
        "      title.top = Cm(0)\n",
        "      title.left = Cm(0)\n",
        "\n",
        "      #Add title\n",
        "      name = Path(i).stem\n",
        "      title.text = name\n",
        "\n",
        "      slide.shapes.add_picture(\n",
        "          i, left=Cm(12.78), top=Cm(3.7), width=Cm(12.24), height=None\n",
        "      )\n",
        "  prs.save(pptpath)\n",
        "\n",
        "def inset_map(bc_path,fire_perim,outpath):\n",
        "  # Define the bounding box for British Columbia (lonmin, lonmax, latmin, latmax)\n",
        "  bbox = [-139, -114.75, 47.5, 60]\n",
        "\n",
        "\n",
        "  # Coordinates of cities/towns (latitude, longitude)\n",
        "  cities = {\n",
        "      'Vancouver': (49.2827, -123.1207),\n",
        "      'Kamloops': (50.6761, -120.3408),\n",
        "      'Prince George':(53.9170,-122.7494),\n",
        "      'Fort St John': (56.2464,-120.8476),\n",
        "      'Prince Rupert': (54.3125,-130.3054),\n",
        "      'Williams Lake': (52.1284,-122.1302)\n",
        "\n",
        "  }\n",
        "\n",
        "  # Create a map\n",
        "  plt.figure(figsize=(4,4))\n",
        "  ax = plt.axes(projection=ccrs.AlbersEqualArea(central_longitude=-126, central_latitude=54))\n",
        "  ax.set_extent(bbox, crs=ccrs.PlateCarree())\n",
        "\n",
        "  # Add land and coastline features\n",
        "  ax.add_feature(cfeature.LAND, edgecolor='black', facecolor='lightgrey',linewidth=0.1)\n",
        "  ax.add_feature(cfeature.COASTLINE, linewidth=0.1)\n",
        "\n",
        "  # Load the British Columbia boundary data using GeoPandas\n",
        "  ## Thank you GeoBC! https://catalogue.data.gov.bc.ca/dataset/province-of-british-columbia-boundary-terrestrial\n",
        "  bc_boundary = geopandas.read_file(bc_path)\n",
        "\n",
        "  # Plot the British Columbia boundary using Cartopy's geopandas tools\n",
        "  ax.add_geometries(bc_boundary['geometry'], crs=ccrs.PlateCarree(), edgecolor='black', facecolor='green',linewidth=0.1)\n",
        "\n",
        "  # Add gridlines\n",
        "  ax.gridlines(draw_labels=True, linestyle='--', color='grey')\n",
        "\n",
        "  # Add fire boundary\n",
        "  fire_boundary = geopandas.read_file(fire_perim)\n",
        "  fire_boundary[\"centroid\"] = fire_boundary[\"geometry\"].centroid\n",
        "  lat = fire_boundary[\"centroid\"].y\n",
        "  lon = fire_boundary[\"centroid\"].x\n",
        "  ax.plot(lon,lat, marker='*', color='purple', markersize=5, transform=ccrs.PlateCarree())\n",
        "  ax.text(lon + 0.5, lat, 'Fire Location', color='purple', fontsize=8, transform=ccrs.PlateCarree())\n",
        "\n",
        "  # Add cities/towns\n",
        "  for city, (lat, lon) in cities.items():\n",
        "      ax.plot(lon, lat, marker='o', color='black', markersize=3, transform=ccrs.PlateCarree())\n",
        "      ax.text(lon + 0.5, lat, city, color='black', fontsize=7, transform=ccrs.PlateCarree())\n",
        "\n",
        "  plt.savefig(outpath, bbox_inches='tight', dpi=300)\n",
        "  plt.close()\n",
        "\n",
        "# Calculates burn area by severity class\n",
        "def zonal_barc(barcpath,firepath,outpath):\n",
        "  def burnsev_name(x):\n",
        "      if x == 0:\n",
        "          return('Unknown')\n",
        "      elif x == 1:\n",
        "          return('Unburned')\n",
        "      elif x == 2:\n",
        "          return('Low')\n",
        "      elif x == 3:\n",
        "          return('Medium')\n",
        "      elif x == 4:\n",
        "          return('High')\n",
        "      else:\n",
        "          print(\"Wrong burn severity value!\")\n",
        "\n",
        "\n",
        "  #need to clip to fire perimeter a little tighter than what gee outputs\n",
        "  basename = barcpath[:-4]\n",
        "  barcpath_clip = basename + '_clip.tif'\n",
        "\n",
        "  gdal.Warp(barcpath_clip,barcpath,cutlineDSName=firepath,cropToCutline=True)\n",
        "\n",
        "  dat = gdal.Open(barcpath_clip)\n",
        "  band = dat.GetRasterBand(1).ReadAsArray()\n",
        "\n",
        "  x1,px,x2,x3,x4,x5 = dat.GetGeoTransform()\n",
        "\n",
        "  nodatavalue = 9\n",
        "  vals, counts = np.unique(band[band != nodatavalue], return_counts=True)\n",
        "\n",
        "  df = pd.DataFrame(\n",
        "      {'class':vals,\n",
        "        'px_count':counts})\n",
        "\n",
        "\n",
        "  a = df['px_count'].sum()\n",
        "  df['perc' ] = (df['px_count'] / a)*100\n",
        "  df['area_m2'] = df['px_count']*(px*px)\n",
        "  df['area_ha'] = df['area_m2']*0.0001\n",
        "\n",
        "  #round to 1 decimal place\n",
        "  df = df.round(1)\n",
        "  df['burn_sev'] = df['class'].apply(burnsev_name)\n",
        "\n",
        "  #reorder columns\n",
        "  df = df[['class','burn_sev','px_count','area_m2','area_ha','perc']]\n",
        "\n",
        "  #print(df) #debug\n",
        "  df.to_csv(outpath)\n",
        "  return(df)"
      ]
    },
    {
      "cell_type": "markdown",
      "source": [
        "\n",
        "\n",
        "---\n",
        "\n"
      ],
      "metadata": {
        "id": "LNg4P_7yfvVo"
      }
    },
    {
      "cell_type": "markdown",
      "source": [
        "### **Part 2: Google Earth Engine authentication and initialization**"
      ],
      "metadata": {
        "id": "Vm7FVLD5fnTM"
      }
    },
    {
      "cell_type": "markdown",
      "source": [
        "Authenticate and intialize GEE. After running the cell below, a sign-in window will pop-up. Please follow prompts to authenticate (sign-in, continue and continue)."
      ],
      "metadata": {
        "id": "FefjxDuKl_VW"
      }
    },
    {
      "cell_type": "code",
      "execution_count": 9,
      "metadata": {
        "id": "KlgKaTt1GJXt",
        "outputId": "157edb57-b734-4b88-c970-19177d894cb6",
        "colab": {
          "base_uri": "https://localhost:8080/",
          "height": 34
        }
      },
      "outputs": [
        {
          "output_type": "display_data",
          "data": {
            "text/plain": [
              "<IPython.core.display.HTML object>"
            ],
            "text/html": [
              "\n",
              "            <style>\n",
              "                .geemap-dark {\n",
              "                    --jp-widgets-color: white;\n",
              "                    --jp-widgets-label-color: white;\n",
              "                    --jp-ui-font-color1: white;\n",
              "                    --jp-layout-color2: #454545;\n",
              "                    background-color: #383838;\n",
              "                }\n",
              "\n",
              "                .geemap-dark .jupyter-button {\n",
              "                    --jp-layout-color3: #383838;\n",
              "                }\n",
              "\n",
              "                .geemap-colab {\n",
              "                    background-color: var(--colab-primary-surface-color, white);\n",
              "                }\n",
              "\n",
              "                .geemap-colab .jupyter-button {\n",
              "                    --jp-layout-color3: var(--colab-primary-surface-color, white);\n",
              "                }\n",
              "            </style>\n",
              "            "
            ]
          },
          "metadata": {}
        },
        {
          "output_type": "execute_result",
          "data": {
            "text/plain": [
              "True"
            ]
          },
          "metadata": {},
          "execution_count": 9
        }
      ],
      "source": [
        "#Authenticate gee\n",
        "ee.Authenticate()"
      ]
    },
    {
      "cell_type": "markdown",
      "source": [
        " Please note, the **Project ID** may be something other than the project name (ex. burn-severity-2024) and may contain additional numbers (ex. burn-severity-2024-456181). Make sure to copy the actual **Project ID** and enter it in the cell below."
      ],
      "metadata": {
        "id": "fmegNSt5c1BO"
      }
    },
    {
      "cell_type": "code",
      "execution_count": 10,
      "metadata": {
        "id": "ni-CYcoVGNYF",
        "outputId": "eedbc7ed-b7dc-411e-efd1-6c0858208958",
        "colab": {
          "base_uri": "https://localhost:8080/",
          "height": 34
        }
      },
      "outputs": [
        {
          "output_type": "display_data",
          "data": {
            "text/plain": [
              "<IPython.core.display.HTML object>"
            ],
            "text/html": [
              "\n",
              "            <style>\n",
              "                .geemap-dark {\n",
              "                    --jp-widgets-color: white;\n",
              "                    --jp-widgets-label-color: white;\n",
              "                    --jp-ui-font-color1: white;\n",
              "                    --jp-layout-color2: #454545;\n",
              "                    background-color: #383838;\n",
              "                }\n",
              "\n",
              "                .geemap-dark .jupyter-button {\n",
              "                    --jp-layout-color3: #383838;\n",
              "                }\n",
              "\n",
              "                .geemap-colab {\n",
              "                    background-color: var(--colab-primary-surface-color, white);\n",
              "                }\n",
              "\n",
              "                .geemap-colab .jupyter-button {\n",
              "                    --jp-layout-color3: var(--colab-primary-surface-color, white);\n",
              "                }\n",
              "            </style>\n",
              "            "
            ]
          },
          "metadata": {}
        },
        {
          "output_type": "stream",
          "name": "stderr",
          "text": [
            "*** Earth Engine *** Share your feedback by taking our Annual Developer Satisfaction Survey: https://google.qualtrics.com/jfe/form/SV_7TDKVSyKvBdmMqW?ref=4i2o6\n"
          ]
        }
      ],
      "source": [
        "# Initialize with a google cloud project\n",
        "project = 'wlbr-2025'\n",
        "ee.Initialize(project=project)"
      ]
    },
    {
      "cell_type": "markdown",
      "source": [
        "\n",
        "\n",
        "---\n",
        "\n"
      ],
      "metadata": {
        "id": "gdIaeamnhKFH"
      }
    },
    {
      "cell_type": "markdown",
      "source": [
        "### **Part 3: Fire perimeter import and visualization**"
      ],
      "metadata": {
        "id": "iG4frcaXg-1P"
      }
    },
    {
      "cell_type": "markdown",
      "source": [
        "The code below will load in a polygon shapefile and display the attribute table. The fire_shp variable is the path to your dataset."
      ],
      "metadata": {
        "id": "OXAzWYeKvp5s"
      }
    },
    {
      "cell_type": "code",
      "source": [
        "AGOL_ITEMS = {\n",
        "    \"current\":    \"6ed3ec9b90f844fcaf9fea499bacae8e\",\n",
        "    \"historical\": \"fc8ed463499845d2915981764fd39f9e\",\n",
        "}"
      ],
      "metadata": {
        "id": "Z4QzGx2P7G2s",
        "outputId": "b9b0c487-f7de-476f-d775-a43b87841549",
        "colab": {
          "base_uri": "https://localhost:8080/",
          "height": 17
        }
      },
      "execution_count": 11,
      "outputs": [
        {
          "output_type": "display_data",
          "data": {
            "text/plain": [
              "<IPython.core.display.HTML object>"
            ],
            "text/html": [
              "\n",
              "            <style>\n",
              "                .geemap-dark {\n",
              "                    --jp-widgets-color: white;\n",
              "                    --jp-widgets-label-color: white;\n",
              "                    --jp-ui-font-color1: white;\n",
              "                    --jp-layout-color2: #454545;\n",
              "                    background-color: #383838;\n",
              "                }\n",
              "\n",
              "                .geemap-dark .jupyter-button {\n",
              "                    --jp-layout-color3: #383838;\n",
              "                }\n",
              "\n",
              "                .geemap-colab {\n",
              "                    background-color: var(--colab-primary-surface-color, white);\n",
              "                }\n",
              "\n",
              "                .geemap-colab .jupyter-button {\n",
              "                    --jp-layout-color3: var(--colab-primary-surface-color, white);\n",
              "                }\n",
              "            </style>\n",
              "            "
            ]
          },
          "metadata": {}
        }
      ]
    },
    {
      "cell_type": "code",
      "source": [
        "def _coarse_like_from_regex(pat):\n",
        "    tokens = re.findall(r\"[A-Za-z0-9]+\", pat)\n",
        "    if not tokens:\n",
        "        return None\n",
        "    tokens.sort(key=len, reverse=True)\n",
        "    return tokens[0]\n",
        "\n",
        "def agol_fire_perimeters_to_ee(rx_obj):\n",
        "    gis = GIS() #dont need to login as these layers are public\n",
        "    combined_features = []\n",
        "\n",
        "    substr = _coarse_like_from_regex(rx_obj.pattern)\n",
        "    if substr:\n",
        "        where_like = \"UPPER(FIRE_NUMBER) LIKE '%{}%'\".format(substr.upper())\n",
        "    else:\n",
        "        where_like = \"FIRE_NUMBER IS NOT NULL\"\n",
        "\n",
        "    for key in (\"current\", \"historical\"):\n",
        "        item = gis.content.get(AGOL_ITEMS[key])\n",
        "        if not item:\n",
        "            continue\n",
        "\n",
        "        # Pick the first polygon layer\n",
        "        fl = None\n",
        "        for lyr in item.layers:\n",
        "            if getattr(lyr.properties, \"geometryType\", \"\") == \"esriGeometryPolygon\":\n",
        "                fl = lyr\n",
        "                break\n",
        "        if fl is None:\n",
        "            continue\n",
        "\n",
        "        pre = fl.query(where=where_like, out_fields=\"OBJECTID,FIRE_NUMBER\",\n",
        "                       return_geometry=False, return_all=True)\n",
        "\n",
        "        keep_ids = []\n",
        "        for feat in pre.features:\n",
        "            val = str(feat.attributes.get(\"FIRE_NUMBER\", \"\"))\n",
        "            if rx_obj.search(val):\n",
        "                keep_ids.append(str(feat.attributes.get(\"OBJECTID\")))\n",
        "\n",
        "        if not keep_ids:\n",
        "            continue\n",
        "\n",
        "        full = fl.query(object_ids=\",\".join(keep_ids), out_fields=\"*\",\n",
        "                        return_geometry=True, out_sr=4326, return_all=True)\n",
        "\n",
        "        gj_str = full.to_geojson\n",
        "        gj = json.loads(gj_str)\n",
        "        combined_features.extend(gj.get(\"features\", []))\n",
        "\n",
        "    if not combined_features:\n",
        "        raise RuntimeError(\"No fire perimeters matched your pattern. Check the spelling.\")\n",
        "\n",
        "    fc_geojson = {\"type\": \"FeatureCollection\", \"features\": combined_features}\n",
        "    return geemap.geojson_to_ee(fc_geojson)\n"
      ],
      "metadata": {
        "id": "b-ZAVnCW8btD",
        "outputId": "0c4cf7ef-8c61-4acb-bd5c-6452846e1b3a",
        "colab": {
          "base_uri": "https://localhost:8080/",
          "height": 17
        }
      },
      "execution_count": 12,
      "outputs": [
        {
          "output_type": "display_data",
          "data": {
            "text/plain": [
              "<IPython.core.display.HTML object>"
            ],
            "text/html": [
              "\n",
              "            <style>\n",
              "                .geemap-dark {\n",
              "                    --jp-widgets-color: white;\n",
              "                    --jp-widgets-label-color: white;\n",
              "                    --jp-ui-font-color1: white;\n",
              "                    --jp-layout-color2: #454545;\n",
              "                    background-color: #383838;\n",
              "                }\n",
              "\n",
              "                .geemap-dark .jupyter-button {\n",
              "                    --jp-layout-color3: #383838;\n",
              "                }\n",
              "\n",
              "                .geemap-colab {\n",
              "                    background-color: var(--colab-primary-surface-color, white);\n",
              "                }\n",
              "\n",
              "                .geemap-colab .jupyter-button {\n",
              "                    --jp-layout-color3: var(--colab-primary-surface-color, white);\n",
              "                }\n",
              "            </style>\n",
              "            "
            ]
          },
          "metadata": {}
        }
      ]
    },
    {
      "cell_type": "code",
      "source": [
        "# @title\n",
        "pattern = input(\"Enter fire number: \").strip()\n",
        "if not pattern:\n",
        "    raise ValueError(\"You must enter a non-empty pattern.\")\n",
        "rx = re.compile(pattern, re.IGNORECASE)"
      ],
      "metadata": {
        "id": "LBAZ9Oui7IGs",
        "outputId": "255f71af-2524-432d-ca11-d4f3213de807",
        "colab": {
          "base_uri": "https://localhost:8080/",
          "height": 34
        }
      },
      "execution_count": 32,
      "outputs": [
        {
          "output_type": "display_data",
          "data": {
            "text/plain": [
              "<IPython.core.display.HTML object>"
            ],
            "text/html": [
              "\n",
              "            <style>\n",
              "                .geemap-dark {\n",
              "                    --jp-widgets-color: white;\n",
              "                    --jp-widgets-label-color: white;\n",
              "                    --jp-ui-font-color1: white;\n",
              "                    --jp-layout-color2: #454545;\n",
              "                    background-color: #383838;\n",
              "                }\n",
              "\n",
              "                .geemap-dark .jupyter-button {\n",
              "                    --jp-layout-color3: #383838;\n",
              "                }\n",
              "\n",
              "                .geemap-colab {\n",
              "                    background-color: var(--colab-primary-surface-color, white);\n",
              "                }\n",
              "\n",
              "                .geemap-colab .jupyter-button {\n",
              "                    --jp-layout-color3: var(--colab-primary-surface-color, white);\n",
              "                }\n",
              "            </style>\n",
              "            "
            ]
          },
          "metadata": {}
        },
        {
          "name": "stdout",
          "output_type": "stream",
          "text": [
            "Enter fire number: v71498\n"
          ]
        }
      ]
    },
    {
      "cell_type": "code",
      "source": [
        "fires_ee = agol_fire_perimeters_to_ee(rx)"
      ],
      "metadata": {
        "id": "Zyyt22898e1A",
        "outputId": "85b2b370-5669-46c1-e565-f542bd25aadb",
        "colab": {
          "base_uri": "https://localhost:8080/",
          "height": 17
        }
      },
      "execution_count": 33,
      "outputs": [
        {
          "output_type": "display_data",
          "data": {
            "text/plain": [
              "<IPython.core.display.HTML object>"
            ],
            "text/html": [
              "\n",
              "            <style>\n",
              "                .geemap-dark {\n",
              "                    --jp-widgets-color: white;\n",
              "                    --jp-widgets-label-color: white;\n",
              "                    --jp-ui-font-color1: white;\n",
              "                    --jp-layout-color2: #454545;\n",
              "                    background-color: #383838;\n",
              "                }\n",
              "\n",
              "                .geemap-dark .jupyter-button {\n",
              "                    --jp-layout-color3: #383838;\n",
              "                }\n",
              "\n",
              "                .geemap-colab {\n",
              "                    background-color: var(--colab-primary-surface-color, white);\n",
              "                }\n",
              "\n",
              "                .geemap-colab .jupyter-button {\n",
              "                    --jp-layout-color3: var(--colab-primary-surface-color, white);\n",
              "                }\n",
              "            </style>\n",
              "            "
            ]
          },
          "metadata": {}
        }
      ]
    },
    {
      "cell_type": "code",
      "execution_count": null,
      "metadata": {
        "id": "At6EOWMfMIGL"
      },
      "outputs": [],
      "source": [
        "# can skip this step if pulling from AGO\n",
        "\n",
        "# Open fires shapefile\n",
        "fires_shp = 'burnSeverity/test/vectors/K52318_Aug28.shp'\n",
        "fires = geemap.shp_to_ee(fires_shp)\n",
        "\n",
        "# Visualize in table format\n",
        "fires_df = geopandas.read_file(fires_shp)\n",
        "fires_df"
      ]
    },
    {
      "cell_type": "code",
      "source": [
        "# Run this cell only if pulling feature from AGO\n",
        "\n",
        "fires =  fires_ee\n",
        "fires_df = geemap.ee_to_gdf(fires_ee)"
      ],
      "metadata": {
        "id": "lXebPRIj876i",
        "outputId": "9cea552e-3a93-4227-e90e-b2efea995b0e",
        "colab": {
          "base_uri": "https://localhost:8080/",
          "height": 17
        }
      },
      "execution_count": 34,
      "outputs": [
        {
          "output_type": "display_data",
          "data": {
            "text/plain": [
              "<IPython.core.display.HTML object>"
            ],
            "text/html": [
              "\n",
              "            <style>\n",
              "                .geemap-dark {\n",
              "                    --jp-widgets-color: white;\n",
              "                    --jp-widgets-label-color: white;\n",
              "                    --jp-ui-font-color1: white;\n",
              "                    --jp-layout-color2: #454545;\n",
              "                    background-color: #383838;\n",
              "                }\n",
              "\n",
              "                .geemap-dark .jupyter-button {\n",
              "                    --jp-layout-color3: #383838;\n",
              "                }\n",
              "\n",
              "                .geemap-colab {\n",
              "                    background-color: var(--colab-primary-surface-color, white);\n",
              "                }\n",
              "\n",
              "                .geemap-colab .jupyter-button {\n",
              "                    --jp-layout-color3: var(--colab-primary-surface-color, white);\n",
              "                }\n",
              "            </style>\n",
              "            "
            ]
          },
          "metadata": {}
        }
      ]
    },
    {
      "cell_type": "markdown",
      "source": [
        "Now visualize spatially."
      ],
      "metadata": {
        "id": "eTWM3d97jQFj"
      }
    },
    {
      "cell_type": "code",
      "execution_count": 35,
      "metadata": {
        "id": "mUwlkFb1M2yS",
        "outputId": "a0e2f6ab-e39d-4ae2-b695-b0f79a436e13",
        "colab": {
          "base_uri": "https://localhost:8080/",
          "height": 621,
          "referenced_widgets": [
            "32ebafcba12d4636bccda3c90930c8f6",
            "f5a6f7949c69439ab2363fb12c8a3f0b",
            "3819696910b84abfb8d2dc17599e2d64",
            "9e6fca299e254b58bc3e603eb0970413",
            "c81f58ec0867427c8d129ca2488c70ae",
            "1668a9ad17cf456d91a5e1212a865b00",
            "4093058ffdc54c93bc676c52fa5973f2",
            "3dc19074d3d440f6b4b3a558c2f9243a",
            "a6b07f4e09f446aab815e5dbc55ed87a",
            "8a2c4cead7e0420e94108f9c3145b68f",
            "6513349113d542898582101702aa7ff3",
            "51738e7065f64d7d831789298c26c5cd",
            "2df18c317f8f491ca05460c738745eea",
            "d9fc507a0b4848a2a6055481bd098b23",
            "7bc218a051a24e8a9c38badfdb07ed9d",
            "3a783a64323241cfba66375bc67a86ec",
            "1d45b28314bc4f5b9aee655f5219c8f3",
            "2ac5bc2b479c43288029b1ca5f37b5f7",
            "e4cbfe64f79f4efb8c67b9cbe8afc9af",
            "5ab3d7bbf6604e6c99e56ed5259ff4a3",
            "e00a83f1524e4435b1201368c05bfdb1",
            "2d068b60d03f4e5f99e85972033fdf7a",
            "e099a184d38743a38656fcdeb7fc066f",
            "65511fd6a0e04e77b7048320cb22cb39",
            "605b0f7b6f634c9abbae7dfca14187f0"
          ]
        }
      },
      "outputs": [
        {
          "output_type": "display_data",
          "data": {
            "text/plain": [
              "<IPython.core.display.HTML object>"
            ],
            "text/html": [
              "\n",
              "            <style>\n",
              "                .geemap-dark {\n",
              "                    --jp-widgets-color: white;\n",
              "                    --jp-widgets-label-color: white;\n",
              "                    --jp-ui-font-color1: white;\n",
              "                    --jp-layout-color2: #454545;\n",
              "                    background-color: #383838;\n",
              "                }\n",
              "\n",
              "                .geemap-dark .jupyter-button {\n",
              "                    --jp-layout-color3: #383838;\n",
              "                }\n",
              "\n",
              "                .geemap-colab {\n",
              "                    background-color: var(--colab-primary-surface-color, white);\n",
              "                }\n",
              "\n",
              "                .geemap-colab .jupyter-button {\n",
              "                    --jp-layout-color3: var(--colab-primary-surface-color, white);\n",
              "                }\n",
              "            </style>\n",
              "            "
            ]
          },
          "metadata": {}
        },
        {
          "output_type": "display_data",
          "data": {
            "text/plain": [
              "Map(center=[49.12377061558834, -124.75492436696396], controls=(WidgetControl(options=['position', 'transparent…"
            ],
            "application/vnd.jupyter.widget-view+json": {
              "version_major": 2,
              "version_minor": 0,
              "model_id": "32ebafcba12d4636bccda3c90930c8f6"
            }
          },
          "metadata": {
            "application/vnd.jupyter.widget-view+json": {
              "colab": {
                "custom_widget_manager": {
                  "url": "https://ssl.gstatic.com/colaboratory-static/widgets/colab-cdn-widget-manager/2b70e893a8ba7c0f/manager.min.js"
                }
              }
            }
          }
        }
      ],
      "source": [
        "Map = geemap.Map()\n",
        "Map.addLayer(fires,{},'Fire Polys')\n",
        "Map.centerObject(fires, 10)\n",
        "Map"
      ]
    },
    {
      "cell_type": "markdown",
      "source": [
        "\n",
        "\n",
        "---\n",
        "\n"
      ],
      "metadata": {
        "id": "xuxdEJDiiO3L"
      }
    },
    {
      "cell_type": "markdown",
      "source": [
        "### **Part 4: Individual fire perimeter selection (1 fire perimeter)**"
      ],
      "metadata": {
        "id": "95ZXcVZ7iQg3"
      }
    },
    {
      "cell_type": "markdown",
      "source": [
        "Select one fire perimeter by fire number. Please make sure that the **fieldname** variable matches your dataset."
      ],
      "metadata": {
        "id": "NMRQT7CiwOt8"
      }
    },
    {
      "cell_type": "code",
      "execution_count": 36,
      "metadata": {
        "id": "GP9ywAhpkCOC",
        "outputId": "05a5f9d8-5777-44f1-823c-8c63cc234702",
        "colab": {
          "base_uri": "https://localhost:8080/",
          "height": 17
        }
      },
      "outputs": [
        {
          "output_type": "display_data",
          "data": {
            "text/plain": [
              "<IPython.core.display.HTML object>"
            ],
            "text/html": [
              "\n",
              "            <style>\n",
              "                .geemap-dark {\n",
              "                    --jp-widgets-color: white;\n",
              "                    --jp-widgets-label-color: white;\n",
              "                    --jp-ui-font-color1: white;\n",
              "                    --jp-layout-color2: #454545;\n",
              "                    background-color: #383838;\n",
              "                }\n",
              "\n",
              "                .geemap-dark .jupyter-button {\n",
              "                    --jp-layout-color3: #383838;\n",
              "                }\n",
              "\n",
              "                .geemap-colab {\n",
              "                    background-color: var(--colab-primary-surface-color, white);\n",
              "                }\n",
              "\n",
              "                .geemap-colab .jupyter-button {\n",
              "                    --jp-layout-color3: var(--colab-primary-surface-color, white);\n",
              "                }\n",
              "            </style>\n",
              "            "
            ]
          },
          "metadata": {}
        }
      ],
      "source": [
        "# Now select one fire (in the test data, there's only one fire perimeter)\n",
        "firenumber = 'V71498' #change fire name\n",
        "fieldname = 'FIRE_NUMBER' #unique firenumber field, change if needed\n",
        "\n",
        "# First check if the firenumber exists in the shapefile provided\n",
        "firelist = fires_df[fieldname].tolist()\n",
        "\n",
        "if firenumber not in firelist:\n",
        "  print('Selected fire number:',firenumber)\n",
        "  print('Available fire numbers: ',firelist)\n",
        "  raise ValueError('Fire number not in fire list. Typo?')\n",
        "\n",
        "# Create output folder\n",
        "if not os.path.exists(firenumber):\n",
        "  os.mkdir(firenumber)\n",
        "\n",
        "# Save a copy of the fire perimeter\n",
        "vector_folder = os.path.join(firenumber,'vectors')\n",
        "if not os.path.exists(vector_folder):\n",
        "  os.mkdir(vector_folder)\n",
        "\n",
        "outshp = os.path.join(vector_folder,firenumber+'.shp')\n",
        "fires_df_sub = fires_df[fires_df[fieldname]==firenumber]\n",
        "fires_df_sub.to_file(outshp,driver='ESRI Shapefile')\n",
        "\n",
        "# Load in the single perimeter\n",
        "poly = geemap.shp_to_ee(outshp)"
      ]
    },
    {
      "cell_type": "markdown",
      "source": [
        "\n",
        "\n",
        "---\n",
        "\n"
      ],
      "metadata": {
        "id": "_kggzNsKiuDQ"
      }
    },
    {
      "cell_type": "markdown",
      "source": [
        "### **Part 5: Sensor selection**"
      ],
      "metadata": {
        "id": "LkgJM6Tjiyun"
      }
    },
    {
      "cell_type": "markdown",
      "source": [
        " The sensor options are as follows: Sentinel-2a/b MSI (S2), Landsat-8 OLI (L8) or Landsat-9 OLI-2 (L9). The data from the above sensors are the surface reflectance / bottom of atmosphere processing level. Pre- and post-fire imagery wil be selected from the same sensor."
      ],
      "metadata": {
        "id": "kPSFM4RovjRU"
      }
    },
    {
      "cell_type": "code",
      "execution_count": 37,
      "metadata": {
        "id": "K0NN6etOk8jx",
        "outputId": "853d7871-8fb5-4e6e-d30d-8bf1d365eedc",
        "colab": {
          "base_uri": "https://localhost:8080/",
          "height": 34
        }
      },
      "outputs": [
        {
          "output_type": "display_data",
          "data": {
            "text/plain": [
              "<IPython.core.display.HTML object>"
            ],
            "text/html": [
              "\n",
              "            <style>\n",
              "                .geemap-dark {\n",
              "                    --jp-widgets-color: white;\n",
              "                    --jp-widgets-label-color: white;\n",
              "                    --jp-ui-font-color1: white;\n",
              "                    --jp-layout-color2: #454545;\n",
              "                    background-color: #383838;\n",
              "                }\n",
              "\n",
              "                .geemap-dark .jupyter-button {\n",
              "                    --jp-layout-color3: #383838;\n",
              "                }\n",
              "\n",
              "                .geemap-colab {\n",
              "                    background-color: var(--colab-primary-surface-color, white);\n",
              "                }\n",
              "\n",
              "                .geemap-colab .jupyter-button {\n",
              "                    --jp-layout-color3: var(--colab-primary-surface-color, white);\n",
              "                }\n",
              "            </style>\n",
              "            "
            ]
          },
          "metadata": {}
        },
        {
          "output_type": "stream",
          "name": "stdout",
          "text": [
            "Selected S2 SR\n"
          ]
        }
      ],
      "source": [
        "dattype = 'S2' #change sensor here\n",
        "\n",
        "if dattype == 'S2':\n",
        "    col = ee.ImageCollection('COPERNICUS/S2_SR_HARMONIZED')\n",
        "    cld_field =  'CLOUDY_PIXEL_PERCENTAGE'\n",
        "    print('Selected S2 SR')\n",
        "elif dattype == 'L9':\n",
        "    col = ee.ImageCollection('LANDSAT/LC09/C02/T1_L2')\n",
        "    cld_field = 'CLOUD_COVER'\n",
        "    print('Selected L9 SR')\n",
        "elif dattype == 'L8':\n",
        "    col = ee.ImageCollection('LANDSAT/LC08/C02/T1_L2')\n",
        "    cld_field = 'CLOUD_COVER'\n",
        "    print('Selected L8 SR')\n",
        "else:\n",
        "    raise ValueError('Wrong data type selected. Choose S2, L9 or L8.')\n"
      ]
    },
    {
      "cell_type": "markdown",
      "source": [
        "**Visualization parameters**: choose the type of visualization you would like to use. Default is false-colour infrared ('nir') but true-color ('tc') and shortwave-infrared ('swir') are also available."
      ],
      "metadata": {
        "id": "Sen9AWOCwUvF"
      }
    },
    {
      "cell_type": "code",
      "source": [
        "# Define visualization parameters\n",
        "vis_type = 'nir'\n",
        "\n",
        "# Dictionary with band combinations\n",
        "vis_dict = {'L8':{'nir':['SR_B5', 'SR_B4', 'SR_B3'],\n",
        "                  'tc':['SR_B4','SR_B3','SR_B2'],\n",
        "                  'swir':['SR_B7','SR_B6','SR_B4']},\n",
        "            'L9':{'nir':['SR_B5', 'SR_B4', 'SR_B3'],\n",
        "                  'tc':['SR_B4','SR_B3','SR_B2'],\n",
        "                  'swir':['SR_B7','SR_B6','SR_B4']},\n",
        "            'S2':{'nir':['B8', 'B4', 'B3'],\n",
        "                  'tc':['B4','B3','B2'],\n",
        "                  'swir':['B12','B8','B4']}}\n",
        "\n",
        "bands = vis_dict[dattype][vis_type] #or provide a list of 3 bands\n",
        "\n",
        "vis = {\n",
        "  'min': 0,\n",
        "  'max': 0.4,\n",
        "  'bands': bands,\n",
        "};"
      ],
      "metadata": {
        "id": "F5AxJwrOO-8k",
        "outputId": "64c97867-2d6a-4ac0-c9e3-bcde2a964be3",
        "colab": {
          "base_uri": "https://localhost:8080/",
          "height": 17
        }
      },
      "execution_count": 38,
      "outputs": [
        {
          "output_type": "display_data",
          "data": {
            "text/plain": [
              "<IPython.core.display.HTML object>"
            ],
            "text/html": [
              "\n",
              "            <style>\n",
              "                .geemap-dark {\n",
              "                    --jp-widgets-color: white;\n",
              "                    --jp-widgets-label-color: white;\n",
              "                    --jp-ui-font-color1: white;\n",
              "                    --jp-layout-color2: #454545;\n",
              "                    background-color: #383838;\n",
              "                }\n",
              "\n",
              "                .geemap-dark .jupyter-button {\n",
              "                    --jp-layout-color3: #383838;\n",
              "                }\n",
              "\n",
              "                .geemap-colab {\n",
              "                    background-color: var(--colab-primary-surface-color, white);\n",
              "                }\n",
              "\n",
              "                .geemap-colab .jupyter-button {\n",
              "                    --jp-layout-color3: var(--colab-primary-surface-color, white);\n",
              "                }\n",
              "            </style>\n",
              "            "
            ]
          },
          "metadata": {}
        }
      ]
    },
    {
      "cell_type": "markdown",
      "source": [
        "\n",
        "\n",
        "---\n",
        "\n"
      ],
      "metadata": {
        "id": "grIi4UVHwCDd"
      }
    },
    {
      "cell_type": "markdown",
      "source": [
        "### **Part 6: Pre-fire image search, visualization and selection**"
      ],
      "metadata": {
        "id": "LbD3pGmOwSpv"
      }
    },
    {
      "cell_type": "markdown",
      "source": [
        "Select the time-interval for the pre-fire image search (startdate_pre and enddate_pre). The imagery should be selected either from year of the fire or the year before. The optimal window for image selection is July 1st to September 30. If good quality imagery isn't available, then search previous year's imagery. To avoid phenology differences, it is best to select pre- and post-fire imagery that is as seasonally consistent as possible. For example both and pre- and post-fire imagery acquired in early August.\n",
        "\n",
        "The script below will search the archive for images acquired during the defined time interval (not inclusive of the enddate), overlapping with the fire perimeter, and below the defined cloud cover threshold. The resulting images are then mosaicked by image acquisition day (along track). If you are searching a wide range time range, it is best to reduce the cloud threshold (cld_thr_pre) to 40 or less.\n"
      ],
      "metadata": {
        "id": "58PGY6NUOtI7"
      }
    },
    {
      "cell_type": "code",
      "source": [
        "print(fires_df)"
      ],
      "metadata": {
        "id": "jwJ1Vo8xBq1F",
        "outputId": "941e3b94-e168-4dae-8549-2cc20f27159d",
        "colab": {
          "base_uri": "https://localhost:8080/",
          "height": 312
        }
      },
      "execution_count": 41,
      "outputs": [
        {
          "output_type": "display_data",
          "data": {
            "text/plain": [
              "<IPython.core.display.HTML object>"
            ],
            "text/html": [
              "\n",
              "            <style>\n",
              "                .geemap-dark {\n",
              "                    --jp-widgets-color: white;\n",
              "                    --jp-widgets-label-color: white;\n",
              "                    --jp-ui-font-color1: white;\n",
              "                    --jp-layout-color2: #454545;\n",
              "                    background-color: #383838;\n",
              "                }\n",
              "\n",
              "                .geemap-dark .jupyter-button {\n",
              "                    --jp-layout-color3: #383838;\n",
              "                }\n",
              "\n",
              "                .geemap-colab {\n",
              "                    background-color: var(--colab-primary-surface-color, white);\n",
              "                }\n",
              "\n",
              "                .geemap-colab .jupyter-button {\n",
              "                    --jp-layout-color3: var(--colab-primary-surface-color, white);\n",
              "                }\n",
              "            </style>\n",
              "            "
            ]
          },
          "metadata": {}
        },
        {
          "output_type": "stream",
          "name": "stdout",
          "text": [
            "                                            geometry  FEATURE_AREA_SQM  \\\n",
            "0  MULTIPOLYGON (((-124.74603 49.16996, -124.7460...      3.518079e+07   \n",
            "\n",
            "  FEATURE_CODE  FEATURE_LENGTH_M FIRE_NUMBER  FIRE_SIZE_HECTARES  \\\n",
            "0   JA70003000         55147.832      V71498              3518.1   \n",
            "\n",
            "     FIRE_STATUS                                           FIRE_URL  \\\n",
            "0  Under Control  https://wildfiresituation.nrs.gov.bc.ca/incide...   \n",
            "\n",
            "   FIRE_YEAR                              GlobalID      LOAD_DATE  OBJECTID  \\\n",
            "0       2025  117f5ec4-fe2e-4f8c-8d6b-142bf7de63b4  1756428571000       291   \n",
            "\n",
            "                     SOURCE   Shape__Area  Shape__Length     TRACK_DATE  \\\n",
            "0  Non-corrected ground GPS  8.206721e+07   84237.599221  1756364400000   \n",
            "\n",
            "   VERSION_NUMBER  \n",
            "0      2025082801  \n"
          ]
        }
      ]
    },
    {
      "cell_type": "code",
      "execution_count": null,
      "metadata": {
        "id": "AA3mf-74kHtb"
      },
      "outputs": [],
      "source": [
        "# Find pre-fire imagery\n",
        "startdate_pre = '2023-07-15'\n",
        "enddate_pre = '2023-07-30'\n",
        "cld_thr_pre = 100 #this is the cloud cover threshold from the scene metadata\n",
        "\n",
        "before = col.filterDate(startdate_pre,enddate_pre).filterBounds(poly).filter(ee.Filter.lt(cld_field,cld_thr_pre))\n",
        "\n",
        "before_list = before.toList(before.size().getInfo())\n",
        "pre_mosaic_col = runDateMosaic(before_list)\n",
        "\n",
        "if dattype.startswith('L'):\n",
        "  pre_mosaic_col = pre_mosaic_col.map(apply_scale_factors_ls)\n",
        "else:\n",
        "  pre_mosaic_col = pre_mosaic_col.map(apply_scale_factors_s2)\n",
        "\n",
        "print('Found',pre_mosaic_col.size().getInfo(),'dates')"
      ]
    },
    {
      "cell_type": "markdown",
      "source": [
        "**Pre-fire image map display:** display the imagery found."
      ],
      "metadata": {
        "id": "SPGX_tSfO9Uv"
      }
    },
    {
      "cell_type": "code",
      "execution_count": null,
      "metadata": {
        "id": "7tJAK85Qrmym"
      },
      "outputs": [],
      "source": [
        "# Add pre-fire images to pre-fire map\n",
        "before_map = geemap.Map()\n",
        "\n",
        "before_size = pre_mosaic_col.size().getInfo()\n",
        "before_mosaic_list = pre_mosaic_col.toList(before_size)\n",
        "before_size\n",
        "\n",
        "for i in range(0,before_size):\n",
        "  b = before_mosaic_list.get(i)\n",
        "  date = b.getInfo()['properties']['system:index']\n",
        "  before_map.addLayer(ee.Image(b), vis, date)\n",
        "  print(date)\n",
        "\n",
        "# Add fire polygon\n",
        "style = {'color': 'white', 'width': 2, 'lineType': 'solid', 'fillColor': '00000000'}\n",
        "before_map.addLayer(poly.style(**style),{},'poly')\n",
        "before_map.centerObject(poly)\n",
        "before_map"
      ]
    },
    {
      "cell_type": "markdown",
      "metadata": {
        "id": "Uw89bta2L0t-"
      },
      "source": [
        "In the top right corner of the map, select the option to list all the layers and toggle on and off the dates to inspect the imagery. Find a high quality image, free of cloud, smoke, as well as snow and take note of the date(yyyy-mm-dd). You can copy and paste the date from the output of the cell above. If there's no clear imagery available for the date you range you defined you can try a different date range or go back and select a different sensor (dattype)."
      ]
    },
    {
      "cell_type": "markdown",
      "source": [
        "\n",
        "\n",
        "---\n",
        "\n"
      ],
      "metadata": {
        "id": "qs-CxbOX4NV4"
      }
    },
    {
      "cell_type": "markdown",
      "source": [
        "### **Part 7: Post-fire image search, visualization and selection**"
      ],
      "metadata": {
        "id": "qJ_8S_OY4QBv"
      }
    },
    {
      "cell_type": "markdown",
      "source": [
        "Now select the time-interval for the post-fire image search (startdate_post and enddate_post). As with the pre-fire imagery, the optimal window for image selection is July 1st to September 30. However, that will not be possible, especially for the fires later in the season. If possible, try to select imagery from before October 15th."
      ],
      "metadata": {
        "id": "m4HCFMWpPC4F"
      }
    },
    {
      "cell_type": "code",
      "execution_count": null,
      "metadata": {
        "id": "aypsWNvCpQ6I"
      },
      "outputs": [],
      "source": [
        "# Find post-fire images\n",
        "startdate_post = '2023-09-15'\n",
        "enddate_post = '2023-09-30' #not inclusive of the end date\n",
        "cld_thr_post = 100\n",
        "\n",
        "after = col.filterDate(startdate_post,enddate_post).filterBounds(poly).filter(ee.Filter.lt(cld_field,cld_thr_post))\n",
        "\n",
        "after_list = after.toList(after.size().getInfo())\n",
        "post_mosaic_col = runDateMosaic(after_list)\n",
        "\n",
        "if dattype.startswith('L'):\n",
        "  post_mosaic_col = post_mosaic_col.map(apply_scale_factors_ls)\n",
        "else:\n",
        "  post_mosaic_col = post_mosaic_col.map(apply_scale_factors_s2)\n",
        "\n",
        "print('Found',post_mosaic_col.size().getInfo(),'scenes')"
      ]
    },
    {
      "cell_type": "markdown",
      "source": [
        "**Post-fire image map display**: display the post-fire imagery in a new map."
      ],
      "metadata": {
        "id": "Txm_d2SxwiA1"
      }
    },
    {
      "cell_type": "code",
      "execution_count": null,
      "metadata": {
        "id": "jrEp5JtAUDMN"
      },
      "outputs": [],
      "source": [
        "# Add post-fire images to post-fire map\n",
        "after_map = geemap.Map()\n",
        "\n",
        "post_size = post_mosaic_col.size().getInfo()\n",
        "post_mosaic_list = post_mosaic_col.toList(post_size)\n",
        "\n",
        "for i in range(0,post_size):\n",
        "  b = post_mosaic_list.get(i)\n",
        "  date = b.getInfo()['properties']['system:index']\n",
        "  after_map.addLayer(ee.Image(b), vis, date)\n",
        "  print(date)\n",
        "\n",
        "# Add fire polygon\n",
        "style = {'color': 'white', 'width': 2, 'lineType': 'solid', 'fillColor': '00000000'}\n",
        "after_map.addLayer(poly.style(**style),{},'poly')\n",
        "after_map.centerObject(poly)\n",
        "after_map\n"
      ]
    },
    {
      "cell_type": "markdown",
      "source": [
        "Also take note of the post-fire image selected. If good quality post-fire imagery is not available consider changing the date range or the sensor."
      ],
      "metadata": {
        "id": "13-78_nUIcma"
      }
    },
    {
      "cell_type": "markdown",
      "source": [
        "\n",
        "\n",
        "---\n",
        "\n"
      ],
      "metadata": {
        "id": "i874zgNH-XtS"
      }
    },
    {
      "cell_type": "markdown",
      "source": [
        "### **Part 8: BARC mapping**"
      ],
      "metadata": {
        "id": "Kk587L-NxBIs"
      }
    },
    {
      "cell_type": "markdown",
      "source": [
        "The BARC burn severity raster raster will be created below. Change the dates for the pre_mosaic_date and post_mosaic_date variables. The BARC raster is generated by: (1) calculating pre- and post-NBR, (2) calculating dNBR by subtracting postNBR from preNBR, (3) Applying a scaling equation to dNBR and (4) Applying thresholds to create a 4-class burn severity raster (1-unburned, 2-low, 3-medium, 4-high)."
      ],
      "metadata": {
        "id": "rgGOQIyn8I2F"
      }
    },
    {
      "cell_type": "code",
      "source": [
        "# Calculate NBR, dNBR and generate BARC map.\n",
        "pre_mosaic_date = '2023-07-23' #enter pre-fire image date here\n",
        "post_mosaic_date = '2023-09-21' #enter post_fire image date here\n",
        "\n",
        "# Select pre-image and post-image\n",
        "pre_col = pre_mosaic_col.filter(ee.Filter.inList(\"system:index\",ee.List([pre_mosaic_date])))\n",
        "pre_img = ee.Image(pre_col.toList(1).get(0))\n",
        "\n",
        "if pre_col.size().getInfo() != 1:\n",
        "  raise ValueError(\"Didn't select 1 pre-fire image date. Check pre_mosaic_date!\")\n",
        "\n",
        "post_col = post_mosaic_col.filter(ee.Filter.inList(\"system:index\", ee.List([post_mosaic_date])))\n",
        "post_img = ee.Image(post_col.toList(1).get(0))\n",
        "\n",
        "if post_col.size().getInfo() != 1:\n",
        "  raise ValueError(\"Didn't select 1 post-fire image date. Check post_mosaic_date!\")\n",
        "\n",
        "# Calculate NBR\n",
        "if dattype.startswith('S2'):\n",
        "    pre_nbr = NBR_S2(pre_img)\n",
        "    post_nbr = NBR_S2(post_img)\n",
        "else:\n",
        "    pre_nbr = NBR_Landsat(pre_img,dattype)\n",
        "    post_nbr = NBR_Landsat(post_img,dattype)\n",
        "\n",
        "# Calculate dNBR\n",
        "dNBR = pre_nbr.subtract(post_nbr).rename('dNBR')\n",
        "\n",
        "# Scale dNBR to integer\n",
        "dNBR_scaled = dNBR.expression('(dNBR * 1000 + 275)/5',{'dNBR': dNBR.select('dNBR')}).rename('dNBR_scaled')\n",
        "\n",
        "# Classify\n",
        "classes = dNBR_scaled.expression(\"(dNBR_scaled >= 187) ? 4 \"\n",
        "                                \": (dNBR_scaled >= 110) ? 3 \"\n",
        "                                \": (dNBR_scaled >= 76) ? 2 \"\n",
        "                                \": 1\",{'dNBR_scaled': dNBR_scaled.select('dNBR_scaled')})\n",
        "\n",
        "#TODO:Mask out water, set to 9, which will become no data\n",
        "# esa_water = ee.ImageCollection('ESA/WorldCover/v200').filterBounds(poly).first().eq(80);\n",
        "\n",
        "#TODO: implement cloud masking\n",
        "\n",
        "# Clip to fire perimeter\n",
        "classes_clipped = classes.clip(poly)\n",
        "\n",
        "print(\"BARC Complete\")\n",
        "\n",
        "# Get scene ids to save\n",
        "d = ee.Date(pre_mosaic_date)\n",
        "pre_filt = before.filterDate(d,d.advance(1,'day'))\n",
        "pre_scenes_ids = pre_filt.aggregate_array('system:index').getInfo()\n",
        "print(pre_scenes_ids)\n",
        "\n",
        "d1 = ee.Date(post_mosaic_date)\n",
        "post_filt = after.filterDate(d1,d1.advance(1,'day'))\n",
        "post_scenes_ids = post_filt.aggregate_array('system:index').getInfo()\n",
        "print(post_scenes_ids)"
      ],
      "metadata": {
        "id": "Zc6E1-54L6ga"
      },
      "execution_count": null,
      "outputs": []
    },
    {
      "cell_type": "markdown",
      "source": [
        "\n",
        "\n",
        "---\n",
        "\n"
      ],
      "metadata": {
        "id": "iIgN0Oxo_wAJ"
      }
    },
    {
      "cell_type": "markdown",
      "source": [
        "### **Part 9: Final visualization for quality control**"
      ],
      "metadata": {
        "id": "U2KwERQ-_K8i"
      }
    },
    {
      "cell_type": "markdown",
      "source": [
        "This script is the final visualization of pre- and post-fire imagery as well as the BARC map. To assess the quality, toggle the layers and zoom into different regions to make sure that the pre- and post-fire imagery is free of clouds, smoke, haze or active fire."
      ],
      "metadata": {
        "id": "6eqnBdMrxKmz"
      }
    },
    {
      "cell_type": "code",
      "source": [
        "#Visualize pre- and post-fire imagery with BARC\n",
        "barc_map = geemap.Map()\n",
        "barc_map.addLayer(ee.Image(pre_img), vis, pre_mosaic_date)\n",
        "barc_map.addLayer(ee.Image(post_img),vis, post_mosaic_date)\n",
        "\n",
        "palette = ['000000','grey', 'yellow', 'orange','red']\n",
        "keys = ['Unknown','Unburned','Low','Medium','High']\n",
        "colors = [(0, 0, 0),(128, 128, 128),(255, 255, 0),(255, 165, 0), (255, 0, 0)]\n",
        "\n",
        "barc_vis = {'min':0,'max':4,'palette':palette}\n",
        "barc_map.addLayer(ee.Image(classes_clipped),barc_vis,'barc')\n",
        "barc_map.add_legend(keys=keys,colors=colors,position='bottomright')\n",
        "\n",
        "style = {'color': 'white', 'width': 2, 'lineType': 'solid', 'fillColor': '00000000'}\n",
        "barc_map.addLayer(poly.style(**style),{},'poly')\n",
        "\n",
        "barc_map.centerObject(poly)\n",
        "barc_map"
      ],
      "metadata": {
        "id": "KFiLxtTJNs2q"
      },
      "execution_count": null,
      "outputs": []
    },
    {
      "cell_type": "markdown",
      "source": [
        "### **Part 10: Image download**"
      ],
      "metadata": {
        "id": "HxBSa1pHxVs8"
      }
    },
    {
      "cell_type": "markdown",
      "source": [
        "This script will download a BARC raster clipped to the extent of the fire perimeter polygon, as well as pre- and post-fire imagery (true color and swir RGB, 8-bit). The search criteria and scene ids will also be exported as json and text files. The root folder will be the fire number."
      ],
      "metadata": {
        "id": "dctlR1eTi-6R"
      }
    },
    {
      "cell_type": "code",
      "source": [
        "# Export\n",
        "outfolder = firenumber #root folder\n",
        "pre_date = pre_mosaic_date.replace('-','')\n",
        "post_date = post_mosaic_date.replace('-','')\n",
        "\n",
        "# Delete folder if exists and re-create\n",
        "barc_folder = os.path.join(outfolder,'barc')\n",
        "if os.path.exists(barc_folder):\n",
        "  print(barc_folder,'exists. Deleting.')\n",
        "  shutil.rmtree(barc_folder)\n",
        "os.makedirs(barc_folder)\n",
        "\n",
        "pre_tc_8bit = os.path.join(outfolder,'pre_truecolor_8bit')\n",
        "if os.path.exists(pre_tc_8bit):\n",
        "  print(pre_tc_8bit,'exists. Deleting.')\n",
        "  shutil.rmtree(pre_tc_8bit)\n",
        "os.makedirs(pre_tc_8bit)\n",
        "\n",
        "post_tc_8bit = os.path.join(outfolder,'post_truecolor_8bit')\n",
        "if os.path.exists(post_tc_8bit):\n",
        "  print(post_tc_8bit,'exists. Deleting.')\n",
        "  shutil.rmtree(post_tc_8bit)\n",
        "os.makedirs(post_tc_8bit)\n",
        "\n",
        "pre_sw_8bit = os.path.join(outfolder,'pre_swir_8bit')\n",
        "if os.path.exists(pre_sw_8bit):\n",
        "  print(pre_sw_8bit,'exists. Deleting.')\n",
        "  shutil.rmtree(pre_sw_8bit)\n",
        "os.makedirs(pre_sw_8bit)\n",
        "\n",
        "post_sw_8bit = os.path.join(outfolder,'post_swir_8bit')\n",
        "if os.path.exists(post_sw_8bit):\n",
        "  print(post_sw_8bit,'exists. Deleting.')\n",
        "  shutil.rmtree(post_sw_8bit)\n",
        "os.makedirs(post_sw_8bit)\n",
        "\n",
        "# Define spatial resolution\n",
        "if dattype == 'S2':\n",
        "  px = 20\n",
        "else:\n",
        "  px = 30\n",
        "\n",
        "## Define tiling rules\n",
        "poly_area = round(poly.geometry().area(1).divide(10000).getInfo(),1)\n",
        "print(poly_area)\n",
        "print('Fire Area:',poly_area,'hectares')\n",
        "\n",
        "if poly_area < 10000:\n",
        "    n = 2\n",
        "elif poly_area > 10000 and poly_area < 100000:\n",
        "    n = 3\n",
        "elif poly_area > 100000 and poly_area < 400000:\n",
        "    n = 4\n",
        "else:\n",
        "    n = 5\n",
        "\n",
        "print('Number of tiles: ' + str(n*n))\n",
        "\n",
        "#export pre and post rgbs, tile to avoid pixel limit issues.\n",
        "footprint = poly.geometry().bounds().getInfo()\n",
        "grids = grid_footprint(footprint,n,n)\n",
        "\n",
        "for i in range(0,len(grids)):\n",
        "  roi = grids[i]\n",
        "  ## Export BARC\n",
        "  barc_folder = os.path.join(outfolder,'barc')\n",
        "  if not os.path.exists(barc_folder):\n",
        "          os.makedirs(barc_folder)\n",
        "\n",
        "  name = 'BARC_' + firenumber + '_' + pre_date + '_' + post_date + '_' + dattype +'_' + str(i) + '_.tif'\n",
        "  barc_filename = os.path.join(barc_folder,name)\n",
        "  geemap.ee_export_image(classes_clipped.unmask(9).clip(roi), filename=barc_filename, scale=px, file_per_band=False,crs='EPSG:3005')\n",
        "  ras = gdal.Open(barc_filename,gdal.GA_Update)\n",
        "  dat = ras.GetRasterBand(1)\n",
        "  dat.SetNoDataValue(9)\n",
        "  ras = None\n",
        "  dat = None\n",
        "\n",
        "  ## Export 8-bit truecolor images\n",
        "  #pre, truecolor\n",
        "  pre_tc_8bit = os.path.join(outfolder,'pre_truecolor_8bit')\n",
        "  if not os.path.exists(pre_tc_8bit):\n",
        "          os.makedirs(pre_tc_8bit)\n",
        "  filename = os.path.join(pre_tc_8bit, dattype + '_' + pre_date + '_truecolor_pre_8bit_' + str(i) + '.tif')\n",
        "  pre_tc_8bit_path = filename\n",
        "  if dattype.startswith('S2'):\n",
        "      viz = {'bands': ['B4', 'B3', 'B2'], 'min': -0.01, 'max':0.3,'gamma':1.5}\n",
        "      geemap.ee_export_image(pre_img.clip(roi).visualize(**viz), filename=filename, scale=10, file_per_band=False,crs='EPSG:3005')\n",
        "  elif (dattype == 'L8') | (dattype == 'L9'):\n",
        "      viz = {'bands': ['SR_B4', 'SR_B3', 'SR_B2'], 'min': -0.01, 'max':0.3,'gamma':1.5}\n",
        "      geemap.ee_export_image(pre_img.clip(roi).visualize(**viz), filename=filename, scale=30, file_per_band=False,crs='EPSG:3005')\n",
        "  else:\n",
        "      pass\n",
        "\n",
        "  post_tc_8bit = os.path.join(outfolder,'post_truecolor_8bit')\n",
        "  if not os.path.exists(post_tc_8bit):\n",
        "          os.makedirs(post_tc_8bit)\n",
        "  filename = os.path.join(post_tc_8bit, dattype + '_' + post_date + '_truecolor_post_8bit_' + str(i) + '.tif')\n",
        "  post_tc_8bit_path = filename\n",
        "  if dattype.startswith('S2'):\n",
        "      viz = {'bands': ['B4', 'B3', 'B2'], 'min': -0.01, 'max':0.3,'gamma':1.5}\n",
        "      geemap.ee_export_image(post_img.clip(roi).visualize(**viz), filename=filename, scale=10, file_per_band=False,crs='EPSG:3005')\n",
        "  elif (dattype == 'L8') | (dattype == 'L9'):\n",
        "      viz = {'bands': ['SR_B4', 'SR_B3', 'SR_B2'], 'min': -0.01, 'max':0.3,'gamma':1.5}\n",
        "      geemap.ee_export_image(post_img.clip(roi).visualize(**viz), filename=filename, scale=30, file_per_band=False,crs='EPSG:3005')\n",
        "  else:\n",
        "      pass\n",
        "\n",
        "  ## Export swir too\n",
        "  pre_sw_8bit = os.path.join(outfolder,'pre_swir_8bit')\n",
        "  if not os.path.exists(pre_sw_8bit):\n",
        "          os.makedirs(pre_sw_8bit)\n",
        "  filename = os.path.join(pre_sw_8bit, dattype + '_' + pre_date + '_swir_pre_8bit_' + str(i) + '.tif')\n",
        "  pre_sw_8bit_path = filename\n",
        "  if dattype.startswith('S2'):\n",
        "      viz = {'bands': ['B12', 'B8', 'B4'], 'min': -0.01, 'max':0.3,'gamma':1.5}\n",
        "      geemap.ee_export_image(pre_img.clip(roi).visualize(**viz), filename=filename, scale=10, file_per_band=False,crs='EPSG:3005')\n",
        "  elif (dattype == 'L8') | (dattype == 'L9'):\n",
        "      viz = {'bands': ['SR_B6', 'SR_B5', 'SR_B4'], 'min': -0.01, 'max':0.3,'gamma':1.5}\n",
        "      geemap.ee_export_image(pre_img.clip(roi).visualize(**viz), filename=filename, scale=30, file_per_band=False,crs='EPSG:3005')\n",
        "  else:\n",
        "      pass\n",
        "\n",
        "  post_sw_8bit = os.path.join(outfolder,'post_swir_8bit')\n",
        "  if not os.path.exists(post_sw_8bit):\n",
        "          os.makedirs(post_sw_8bit)\n",
        "  filename = os.path.join(post_sw_8bit, dattype + '_' + post_date + '_swir_post_8bit_' + str(i) + '.tif')\n",
        "  post_sw_8bit_path = filename\n",
        "  if dattype.startswith('S2'):\n",
        "      viz = {'bands': ['B12', 'B8', 'B4'], 'min': -0.01, 'max':0.3,'gamma':1.5}\n",
        "      geemap.ee_export_image(post_img.clip(roi).visualize(**viz), filename=filename, scale=10, file_per_band=False,crs='EPSG:3005')\n",
        "  elif (dattype == 'L8') | (dattype == 'L9'):\n",
        "      viz = {'bands': ['SR_B6', 'SR_B5', 'SR_B4'], 'min': -0.01, 'max':0.3,'gamma':1.5}\n",
        "      geemap.ee_export_image(post_img.clip(roi).visualize(**viz), filename=filename, scale=30, file_per_band=False,crs='EPSG:3005')\n",
        "  else:\n",
        "      pass\n",
        "\n",
        "  print(barc_folder)\n",
        "\n",
        "#mosaic all\n",
        "#BARC\n",
        "barc_list = getfiles(barc_folder,'.tif')\n",
        "outfilename = 'BARC_' + firenumber + '_' + pre_date + '_' + post_date + '_' + dattype + '.tif'\n",
        "out = os.path.join(barc_folder,outfilename)\n",
        "gdal.Warp(out,barc_list)\n",
        "for file in barc_list: os.remove(file) #delete tiles\n",
        "barc_filename = out #to return from the function\n",
        "print('Barc mosaic complete')\n",
        "\n",
        "#pre truecolour\n",
        "pre_tc_list = getfiles(pre_tc_8bit,'.tif')\n",
        "outfilename = dattype + '_' + pre_date + '_truecolor_pre_8bit' + '.tif'\n",
        "out = os.path.join(pre_tc_8bit,outfilename)\n",
        "gdal.Warp(out,pre_tc_list)\n",
        "for file in pre_tc_list: os.remove(file) #delete tiles\n",
        "pre_tc_8bit_path = out #to return from the function\n",
        "print('Pre truecolor mosaic complete')\n",
        "\n",
        "#post truecolor\n",
        "post_tc_list = getfiles(post_tc_8bit,'.tif')\n",
        "outfilename = dattype + '_' + post_date + '_truecolor_post_8bit' + '.tif'\n",
        "out = os.path.join(post_tc_8bit,outfilename)\n",
        "gdal.Warp(out,post_tc_list)\n",
        "for file in post_tc_list: os.remove(file)\n",
        "post_tc_8bit_path = out #to return from the function\n",
        "print('Post truecolor mosaic complete')\n",
        "\n",
        "#pre swir\n",
        "pre_sw_list = getfiles(pre_sw_8bit,'.tif')\n",
        "outfilename = dattype + '_' + pre_date + '_swir_pre_8bit' + '.tif'\n",
        "out = os.path.join(pre_sw_8bit,outfilename)\n",
        "gdal.Warp(out,pre_sw_list)\n",
        "for file in pre_sw_list: os.remove(file) #delete tiles\n",
        "pre_sw_8bit_path = out #to return from the function\n",
        "print('Pre swir mosaic complete')\n",
        "\n",
        "#post swir\n",
        "post_sw_list = getfiles(post_sw_8bit,'.tif')\n",
        "outfilename = dattype + '_' + post_date + '_swir_post_8bit' + '.tif'\n",
        "out = os.path.join(post_sw_8bit,outfilename)\n",
        "gdal.Warp(out,post_sw_list)\n",
        "for file in post_sw_list: os.remove(file)\n",
        "post_sw_8bit_path = out #to return from the function\n",
        "print('Post swir mosaic complete')\n",
        "\n",
        "#Export a dictionary with metadata info\n",
        "searchd = {'Id':firenumber,'sensor':dattype,\n",
        "               'cld_pre':cld_thr_pre,'pre_T1':startdate_pre,'pre_T2':enddate_pre,\n",
        "               'cld_post':cld_thr_post,'post_T1':startdate_post,'post_T2':startdate_post,\n",
        "               'pre_mosaic_date':pre_mosaic_date,'pre_scenes':pre_scenes_ids,\n",
        "               'post_mosaic_date':post_mosaic_date,'post_scenes':post_scenes_ids}\n",
        "\n",
        "params = os.path.join(outfolder,'search_params.txt')\n",
        "with open(params, 'w') as f:\n",
        "    for key, value in searchd.items():\n",
        "        f.write('%s:%s\\n' % (key, value))\n",
        "\n",
        "#write search parameters to the folder as json for use later\n",
        "output_json = os.path.join(outfolder,'search_params.json')\n",
        "with open(output_json, 'w') as json_file:\n",
        "    json.dump(searchd, json_file, indent=4)\n"
      ],
      "metadata": {
        "id": "GgAXor9eGhzx"
      },
      "execution_count": null,
      "outputs": []
    },
    {
      "cell_type": "markdown",
      "source": [
        "### **Part 11: Quicklooks and area burned by severity class**"
      ],
      "metadata": {
        "id": "0jGln5xDASur"
      }
    },
    {
      "cell_type": "markdown",
      "source": [
        "The script below creates and exports quicklook images, burn severity classes summaries and maps. You should be able to run as is."
      ],
      "metadata": {
        "id": "sKFCsD-XxdYK"
      }
    },
    {
      "cell_type": "code",
      "source": [
        "# Summary Section\n",
        "qcdir = os.path.join(firenumber,'QC')\n",
        "if os.path.exists(qcdir):\n",
        "  print(qcdir,'exists. Deleting.')\n",
        "  shutil.rmtree(qcdir)\n",
        "os.mkdir(qcdir)\n",
        "\n",
        "# Create powerpoint presentation\n",
        "pptpath = os.path.join(qcdir,firenumber+'.pptx')\n",
        "create_ppt(pptpath)\n",
        "\n",
        "bc_boundary ='burnSeverity/bc/BC_Boundary_Terrestrial_gcs_simplify.shp'\n",
        "\n",
        "# Pre- and post-fire quicklooks (truecolor)\n",
        "pre_tc_ql = generate_ql(outshp,pre_tc_8bit_path,qcdir)\n",
        "post_tc_ql = generate_ql(outshp,post_tc_8bit_path,qcdir)\n",
        "\n",
        "# Pre- and post-fire quicklooks (swir)\n",
        "pre_sw_ql = generate_ql(outshp,pre_sw_8bit_path,qcdir)\n",
        "post_sw_ql = generate_ql(outshp,post_sw_8bit_path,qcdir)\n",
        "\n",
        "# BARC\n",
        "name = Path(barc_filename).stem + '.png'\n",
        "barc_ql = os.path.join(qcdir,name)\n",
        "ql_barc(outshp,barc_filename,post_tc_8bit_path,barc_ql)\n",
        "\n",
        "# Location map\n",
        "name = firenumber + '_locmap.png'\n",
        "map_ql = os.path.join(qcdir,name)\n",
        "\n",
        "fire_perim = os.path.join(firenumber,'vectors',firenumber+'_gcs.shp')\n",
        "if os.path.isfile(fire_perim):\n",
        "    pass\n",
        "else:\n",
        "    fire_perim = os.path.join(firenumber,'vectors',firenumber+'.shp')\n",
        "\n",
        "inset_map(bc_boundary,fire_perim,map_ql)\n",
        "\n",
        "#add stats table\n",
        "outpath = os.path.join(firenumber,'barc_stats.csv')\n",
        "df = zonal_barc(barc_filename,outshp,outpath)\n",
        "\n",
        "#Add slide to powerpoint\n",
        "add_slide(pptpath,pre_tc_ql,post_tc_ql,barc_ql,map_ql,df)\n",
        "add_slide(pptpath,pre_sw_ql,post_sw_ql,barc_ql,map_ql,df)\n",
        "\n"
      ],
      "metadata": {
        "id": "Qkan1YWqcPAN"
      },
      "execution_count": null,
      "outputs": []
    },
    {
      "cell_type": "markdown",
      "source": [
        "\n",
        "\n",
        "---\n",
        "\n"
      ],
      "metadata": {
        "id": "RoiuiHO_AlXC"
      }
    },
    {
      "cell_type": "markdown",
      "source": [
        "### **Part 12: Final export**"
      ],
      "metadata": {
        "id": "oc_DkA_8A6tw"
      }
    },
    {
      "cell_type": "markdown",
      "source": [
        "The folder will be zipped and saved under the Files tab. Right click and download the folder to your machine."
      ],
      "metadata": {
        "id": "-An_hMo3qPI1"
      }
    },
    {
      "cell_type": "code",
      "source": [
        "#Zip to download\n",
        "zip = firenumber + '.zip'\n",
        "indata = firenumber\n",
        "\n",
        "!zip -r {zip} {indata}\n",
        "files.download(zip)"
      ],
      "metadata": {
        "id": "sdt_TRppUAVu"
      },
      "execution_count": null,
      "outputs": []
    }
  ],
  "metadata": {
    "colab": {
      "provenance": [],
      "collapsed_sections": [
        "LTi0frCUCpkW"
      ],
      "include_colab_link": true
    },
    "kernelspec": {
      "display_name": "Python 3",
      "name": "python3"
    },
    "language_info": {
      "name": "python"
    },
    "widgets": {
      "application/vnd.jupyter.widget-state+json": {
        "32ebafcba12d4636bccda3c90930c8f6": {
          "model_module": "jupyter-leaflet",
          "model_name": "LeafletMapModel",
          "model_module_version": "^0.18",
          "state": {
            "_dom_classes": [],
            "_model_module": "jupyter-leaflet",
            "_model_module_version": "^0.18",
            "_model_name": "LeafletMapModel",
            "_view_count": null,
            "_view_module": "jupyter-leaflet",
            "_view_module_version": "^0.18",
            "_view_name": "LeafletMapView",
            "bottom": 90188,
            "bounce_at_zoom_limits": true,
            "box_zoom": true,
            "center": [
              49.12377061558834,
              -124.75492436696396
            ],
            "close_popup_on_click": true,
            "controls": [
              "IPY_MODEL_f5a6f7949c69439ab2363fb12c8a3f0b",
              "IPY_MODEL_3819696910b84abfb8d2dc17599e2d64",
              "IPY_MODEL_9e6fca299e254b58bc3e603eb0970413",
              "IPY_MODEL_c81f58ec0867427c8d129ca2488c70ae",
              "IPY_MODEL_1668a9ad17cf456d91a5e1212a865b00",
              "IPY_MODEL_4093058ffdc54c93bc676c52fa5973f2",
              "IPY_MODEL_3dc19074d3d440f6b4b3a558c2f9243a",
              "IPY_MODEL_a6b07f4e09f446aab815e5dbc55ed87a"
            ],
            "crs": {
              "name": "EPSG3857",
              "custom": false
            },
            "default_style": "IPY_MODEL_8a2c4cead7e0420e94108f9c3145b68f",
            "double_click_zoom": true,
            "dragging": true,
            "dragging_style": "IPY_MODEL_6513349113d542898582101702aa7ff3",
            "east": -123.76235961914064,
            "fullscreen": false,
            "inertia": true,
            "inertia_deceleration": 3000,
            "inertia_max_speed": 1500,
            "interpolation": "bilinear",
            "keyboard": true,
            "keyboard_pan_offset": 80,
            "keyboard_zoom_offset": 1,
            "layers": [
              "IPY_MODEL_51738e7065f64d7d831789298c26c5cd",
              "IPY_MODEL_2df18c317f8f491ca05460c738745eea"
            ],
            "layout": "IPY_MODEL_d9fc507a0b4848a2a6055481bd098b23",
            "left": 39506,
            "max_zoom": 24,
            "min_zoom": null,
            "modisdate": "2025-09-16",
            "north": 49.39309989350566,
            "options": [
              "bounce_at_zoom_limits",
              "box_zoom",
              "center",
              "close_popup_on_click",
              "double_click_zoom",
              "dragging",
              "fullscreen",
              "inertia",
              "inertia_deceleration",
              "inertia_max_speed",
              "interpolation",
              "keyboard",
              "keyboard_pan_offset",
              "keyboard_zoom_offset",
              "max_zoom",
              "min_zoom",
              "prefer_canvas",
              "scroll_wheel_zoom",
              "tap",
              "tap_tolerance",
              "touch_zoom",
              "world_copy_jump",
              "zoom",
              "zoom_animation_threshold",
              "zoom_delta",
              "zoom_snap"
            ],
            "panes": {},
            "prefer_canvas": false,
            "right": 40951,
            "scroll_wheel_zoom": true,
            "south": 48.85387273165656,
            "style": "IPY_MODEL_7bc218a051a24e8a9c38badfdb07ed9d",
            "tap": true,
            "tap_tolerance": 15,
            "top": 89588,
            "touch_zoom": true,
            "west": -125.74676513671876,
            "window_url": "https://95syhw1pf7e-496ff2e9c6d22116-0-colab.googleusercontent.com/outputframe.html?vrz=colab_20250916-060051_RC00_807562249",
            "world_copy_jump": false,
            "zoom": 10,
            "zoom_animation_threshold": 4,
            "zoom_delta": 1,
            "zoom_snap": 1
          }
        },
        "f5a6f7949c69439ab2363fb12c8a3f0b": {
          "model_module": "jupyter-leaflet",
          "model_name": "LeafletWidgetControlModel",
          "model_module_version": "^0.18",
          "state": {
            "_model_module": "jupyter-leaflet",
            "_model_module_version": "^0.18",
            "_model_name": "LeafletWidgetControlModel",
            "_view_count": null,
            "_view_module": "jupyter-leaflet",
            "_view_module_version": "^0.18",
            "_view_name": "LeafletWidgetControlView",
            "max_height": null,
            "max_width": null,
            "min_height": null,
            "min_width": null,
            "options": [
              "position",
              "transparent_bg"
            ],
            "position": "topleft",
            "transparent_bg": false,
            "widget": "IPY_MODEL_3a783a64323241cfba66375bc67a86ec"
          }
        },
        "3819696910b84abfb8d2dc17599e2d64": {
          "model_module": "jupyter-leaflet",
          "model_name": "LeafletZoomControlModel",
          "model_module_version": "^0.18",
          "state": {
            "_model_module": "jupyter-leaflet",
            "_model_module_version": "^0.18",
            "_model_name": "LeafletZoomControlModel",
            "_view_count": null,
            "_view_module": "jupyter-leaflet",
            "_view_module_version": "^0.18",
            "_view_name": "LeafletZoomControlView",
            "options": [
              "position",
              "zoom_in_text",
              "zoom_in_title",
              "zoom_out_text",
              "zoom_out_title"
            ],
            "position": "topleft",
            "zoom_in_text": "+",
            "zoom_in_title": "Zoom in",
            "zoom_out_text": "-",
            "zoom_out_title": "Zoom out"
          }
        },
        "9e6fca299e254b58bc3e603eb0970413": {
          "model_module": "jupyter-leaflet",
          "model_name": "LeafletFullScreenControlModel",
          "model_module_version": "^0.18",
          "state": {
            "_model_module": "jupyter-leaflet",
            "_model_module_version": "^0.18",
            "_model_name": "LeafletFullScreenControlModel",
            "_view_count": null,
            "_view_module": "jupyter-leaflet",
            "_view_module_version": "^0.18",
            "_view_name": "LeafletFullScreenControlView",
            "options": [
              "position"
            ],
            "position": "topleft"
          }
        },
        "c81f58ec0867427c8d129ca2488c70ae": {
          "model_module": "jupyter-leaflet",
          "model_name": "LeafletDrawControlModel",
          "model_module_version": "^0.18",
          "state": {
            "_model_module": "jupyter-leaflet",
            "_model_module_version": "^0.18",
            "_model_name": "LeafletDrawControlModel",
            "_view_count": null,
            "_view_module": "jupyter-leaflet",
            "_view_module_version": "^0.18",
            "_view_name": "LeafletDrawControlView",
            "circle": {},
            "circlemarker": {},
            "data": [],
            "edit": true,
            "marker": {
              "shapeOptions": {
                "color": "#3388ff"
              }
            },
            "options": [
              "position"
            ],
            "polygon": {
              "shapeOptions": {}
            },
            "polyline": {
              "shapeOptions": {}
            },
            "position": "topleft",
            "rectangle": {
              "shapeOptions": {
                "color": "#3388ff"
              }
            },
            "remove": true
          }
        },
        "1668a9ad17cf456d91a5e1212a865b00": {
          "model_module": "jupyter-leaflet",
          "model_name": "LeafletScaleControlModel",
          "model_module_version": "^0.18",
          "state": {
            "_model_module": "jupyter-leaflet",
            "_model_module_version": "^0.18",
            "_model_name": "LeafletScaleControlModel",
            "_view_count": null,
            "_view_module": "jupyter-leaflet",
            "_view_module_version": "^0.18",
            "_view_name": "LeafletScaleControlView",
            "imperial": true,
            "max_width": 100,
            "metric": true,
            "options": [
              "imperial",
              "max_width",
              "metric",
              "position",
              "update_when_idle"
            ],
            "position": "bottomleft",
            "update_when_idle": false
          }
        },
        "4093058ffdc54c93bc676c52fa5973f2": {
          "model_module": "jupyter-leaflet",
          "model_name": "LeafletMeasureControlModel",
          "model_module_version": "^0.18",
          "state": {
            "_custom_units": {},
            "_model_module": "jupyter-leaflet",
            "_model_module_version": "^0.18",
            "_model_name": "LeafletMeasureControlModel",
            "_view_count": null,
            "_view_module": "jupyter-leaflet",
            "_view_module_version": "^0.18",
            "_view_name": "LeafletMeasureControlView",
            "active_color": "orange",
            "capture_z_index": 10000,
            "completed_color": "#C8F2BE",
            "options": [
              "active_color",
              "capture_z_index",
              "completed_color",
              "popup_options",
              "position",
              "primary_area_unit",
              "primary_length_unit",
              "secondary_area_unit",
              "secondary_length_unit"
            ],
            "popup_options": {
              "className": "leaflet-measure-resultpopup",
              "autoPanPadding": [
                10,
                10
              ]
            },
            "position": "bottomleft",
            "primary_area_unit": "acres",
            "primary_length_unit": "kilometers",
            "secondary_area_unit": null,
            "secondary_length_unit": null
          }
        },
        "3dc19074d3d440f6b4b3a558c2f9243a": {
          "model_module": "jupyter-leaflet",
          "model_name": "LeafletWidgetControlModel",
          "model_module_version": "^0.18",
          "state": {
            "_model_module": "jupyter-leaflet",
            "_model_module_version": "^0.18",
            "_model_name": "LeafletWidgetControlModel",
            "_view_count": null,
            "_view_module": "jupyter-leaflet",
            "_view_module_version": "^0.18",
            "_view_name": "LeafletWidgetControlView",
            "max_height": null,
            "max_width": null,
            "min_height": null,
            "min_width": null,
            "options": [
              "position",
              "transparent_bg"
            ],
            "position": "topright",
            "transparent_bg": false,
            "widget": "IPY_MODEL_1d45b28314bc4f5b9aee655f5219c8f3"
          }
        },
        "a6b07f4e09f446aab815e5dbc55ed87a": {
          "model_module": "jupyter-leaflet",
          "model_name": "LeafletAttributionControlModel",
          "model_module_version": "^0.18",
          "state": {
            "_model_module": "jupyter-leaflet",
            "_model_module_version": "^0.18",
            "_model_name": "LeafletAttributionControlModel",
            "_view_count": null,
            "_view_module": "jupyter-leaflet",
            "_view_module_version": "^0.18",
            "_view_name": "LeafletAttributionControlView",
            "options": [
              "position",
              "prefix"
            ],
            "position": "bottomright",
            "prefix": "ipyleaflet"
          }
        },
        "8a2c4cead7e0420e94108f9c3145b68f": {
          "model_module": "jupyter-leaflet",
          "model_name": "LeafletMapStyleModel",
          "model_module_version": "^0.18",
          "state": {
            "_model_module": "jupyter-leaflet",
            "_model_module_version": "^0.18",
            "_model_name": "LeafletMapStyleModel",
            "_view_count": null,
            "_view_module": "@jupyter-widgets/base",
            "_view_module_version": "1.2.0",
            "_view_name": "StyleView",
            "cursor": "grab"
          }
        },
        "6513349113d542898582101702aa7ff3": {
          "model_module": "jupyter-leaflet",
          "model_name": "LeafletMapStyleModel",
          "model_module_version": "^0.18",
          "state": {
            "_model_module": "jupyter-leaflet",
            "_model_module_version": "^0.18",
            "_model_name": "LeafletMapStyleModel",
            "_view_count": null,
            "_view_module": "@jupyter-widgets/base",
            "_view_module_version": "1.2.0",
            "_view_name": "StyleView",
            "cursor": "move"
          }
        },
        "51738e7065f64d7d831789298c26c5cd": {
          "model_module": "jupyter-leaflet",
          "model_name": "LeafletTileLayerModel",
          "model_module_version": "^0.18",
          "state": {
            "_model_module": "jupyter-leaflet",
            "_model_module_version": "^0.18",
            "_model_name": "LeafletTileLayerModel",
            "_view_count": null,
            "_view_module": "jupyter-leaflet",
            "_view_module_version": "^0.18",
            "_view_name": "LeafletTileLayerView",
            "attribution": "&copy; <a href=\"https://www.openstreetmap.org/copyright\">OpenStreetMap</a> contributors",
            "base": true,
            "bottom": true,
            "bounds": null,
            "detect_retina": false,
            "loading": false,
            "max_native_zoom": null,
            "max_zoom": 19,
            "min_native_zoom": null,
            "min_zoom": 1,
            "name": "OpenStreetMap.Mapnik",
            "no_wrap": false,
            "opacity": 1,
            "options": [
              "attribution",
              "bounds",
              "detect_retina",
              "max_native_zoom",
              "max_zoom",
              "min_native_zoom",
              "min_zoom",
              "no_wrap",
              "tile_size",
              "tms",
              "zoom_offset"
            ],
            "pane": "",
            "popup": null,
            "popup_max_height": null,
            "popup_max_width": 300,
            "popup_min_width": 50,
            "show_loading": false,
            "subitems": [],
            "tile_size": 256,
            "tms": false,
            "url": "https://tile.openstreetmap.org/{z}/{x}/{y}.png",
            "visible": true,
            "zoom_offset": 0
          }
        },
        "2df18c317f8f491ca05460c738745eea": {
          "model_module": "jupyter-leaflet",
          "model_name": "LeafletTileLayerModel",
          "model_module_version": "^0.18",
          "state": {
            "_model_module": "jupyter-leaflet",
            "_model_module_version": "^0.18",
            "_model_name": "LeafletTileLayerModel",
            "_view_count": null,
            "_view_module": "jupyter-leaflet",
            "_view_module_version": "^0.18",
            "_view_name": "LeafletTileLayerView",
            "attribution": "Google Earth Engine",
            "base": false,
            "bottom": true,
            "bounds": null,
            "detect_retina": false,
            "loading": false,
            "max_native_zoom": null,
            "max_zoom": 24,
            "min_native_zoom": null,
            "min_zoom": 0,
            "name": "Fire Polys",
            "no_wrap": false,
            "opacity": 1,
            "options": [
              "attribution",
              "bounds",
              "detect_retina",
              "max_native_zoom",
              "max_zoom",
              "min_native_zoom",
              "min_zoom",
              "no_wrap",
              "tile_size",
              "tms",
              "zoom_offset"
            ],
            "pane": "",
            "popup": null,
            "popup_max_height": null,
            "popup_max_width": 300,
            "popup_min_width": 50,
            "show_loading": false,
            "subitems": [],
            "tile_size": 256,
            "tms": false,
            "url": "https://earthengine.googleapis.com/v1/projects/wlbr-2025/maps/0a44943d54776fc22c09274e6977172e-2278e3bac8156177547e8d6c7b041250/tiles/{z}/{x}/{y}",
            "visible": true,
            "zoom_offset": 0
          }
        },
        "d9fc507a0b4848a2a6055481bd098b23": {
          "model_module": "@jupyter-widgets/base",
          "model_name": "LayoutModel",
          "model_module_version": "1.2.0",
          "state": {
            "_model_module": "@jupyter-widgets/base",
            "_model_module_version": "1.2.0",
            "_model_name": "LayoutModel",
            "_view_count": null,
            "_view_module": "@jupyter-widgets/base",
            "_view_module_version": "1.2.0",
            "_view_name": "LayoutView",
            "align_content": null,
            "align_items": null,
            "align_self": null,
            "border": null,
            "bottom": null,
            "display": null,
            "flex": null,
            "flex_flow": null,
            "grid_area": null,
            "grid_auto_columns": null,
            "grid_auto_flow": null,
            "grid_auto_rows": null,
            "grid_column": null,
            "grid_gap": null,
            "grid_row": null,
            "grid_template_areas": null,
            "grid_template_columns": null,
            "grid_template_rows": null,
            "height": "600px",
            "justify_content": null,
            "justify_items": null,
            "left": null,
            "margin": null,
            "max_height": null,
            "max_width": null,
            "min_height": null,
            "min_width": null,
            "object_fit": null,
            "object_position": null,
            "order": null,
            "overflow": null,
            "overflow_x": null,
            "overflow_y": null,
            "padding": null,
            "right": null,
            "top": null,
            "visibility": null,
            "width": null
          }
        },
        "7bc218a051a24e8a9c38badfdb07ed9d": {
          "model_module": "jupyter-leaflet",
          "model_name": "LeafletMapStyleModel",
          "model_module_version": "^0.18",
          "state": {
            "_model_module": "jupyter-leaflet",
            "_model_module_version": "^0.18",
            "_model_name": "LeafletMapStyleModel",
            "_view_count": null,
            "_view_module": "@jupyter-widgets/base",
            "_view_module_version": "1.2.0",
            "_view_name": "StyleView",
            "cursor": "grab"
          }
        },
        "3a783a64323241cfba66375bc67a86ec": {
          "model_module": "@jupyter-widgets/controls",
          "model_name": "HBoxModel",
          "model_module_version": "1.5.0",
          "state": {
            "_dom_classes": [
              "geemap-colab"
            ],
            "_model_module": "@jupyter-widgets/controls",
            "_model_module_version": "1.5.0",
            "_model_name": "HBoxModel",
            "_view_count": null,
            "_view_module": "@jupyter-widgets/controls",
            "_view_module_version": "1.5.0",
            "_view_name": "HBoxView",
            "box_style": "",
            "children": [
              "IPY_MODEL_2ac5bc2b479c43288029b1ca5f37b5f7"
            ],
            "layout": "IPY_MODEL_e4cbfe64f79f4efb8c67b9cbe8afc9af"
          }
        },
        "1d45b28314bc4f5b9aee655f5219c8f3": {
          "model_module": "@jupyter-widgets/controls",
          "model_name": "VBoxModel",
          "model_module_version": "1.5.0",
          "state": {
            "_dom_classes": [
              "geemap-colab"
            ],
            "_model_module": "@jupyter-widgets/controls",
            "_model_module_version": "1.5.0",
            "_model_name": "VBoxModel",
            "_view_count": null,
            "_view_module": "@jupyter-widgets/controls",
            "_view_module_version": "1.5.0",
            "_view_name": "VBoxView",
            "box_style": "",
            "children": [
              "IPY_MODEL_5ab3d7bbf6604e6c99e56ed5259ff4a3"
            ],
            "layout": "IPY_MODEL_e00a83f1524e4435b1201368c05bfdb1"
          }
        },
        "2ac5bc2b479c43288029b1ca5f37b5f7": {
          "model_module": "@jupyter-widgets/controls",
          "model_name": "ToggleButtonModel",
          "model_module_version": "1.5.0",
          "state": {
            "_dom_classes": [],
            "_model_module": "@jupyter-widgets/controls",
            "_model_module_version": "1.5.0",
            "_model_name": "ToggleButtonModel",
            "_view_count": null,
            "_view_module": "@jupyter-widgets/controls",
            "_view_module_version": "1.5.0",
            "_view_name": "ToggleButtonView",
            "button_style": "",
            "description": "",
            "description_tooltip": null,
            "disabled": false,
            "icon": "globe",
            "layout": "IPY_MODEL_2d068b60d03f4e5f99e85972033fdf7a",
            "style": "IPY_MODEL_e099a184d38743a38656fcdeb7fc066f",
            "tooltip": "Search location/data",
            "value": false
          }
        },
        "e4cbfe64f79f4efb8c67b9cbe8afc9af": {
          "model_module": "@jupyter-widgets/base",
          "model_name": "LayoutModel",
          "model_module_version": "1.2.0",
          "state": {
            "_model_module": "@jupyter-widgets/base",
            "_model_module_version": "1.2.0",
            "_model_name": "LayoutModel",
            "_view_count": null,
            "_view_module": "@jupyter-widgets/base",
            "_view_module_version": "1.2.0",
            "_view_name": "LayoutView",
            "align_content": null,
            "align_items": null,
            "align_self": null,
            "border": null,
            "bottom": null,
            "display": null,
            "flex": null,
            "flex_flow": null,
            "grid_area": null,
            "grid_auto_columns": null,
            "grid_auto_flow": null,
            "grid_auto_rows": null,
            "grid_column": null,
            "grid_gap": null,
            "grid_row": null,
            "grid_template_areas": null,
            "grid_template_columns": null,
            "grid_template_rows": null,
            "height": null,
            "justify_content": null,
            "justify_items": null,
            "left": null,
            "margin": null,
            "max_height": null,
            "max_width": null,
            "min_height": null,
            "min_width": null,
            "object_fit": null,
            "object_position": null,
            "order": null,
            "overflow": null,
            "overflow_x": null,
            "overflow_y": null,
            "padding": null,
            "right": null,
            "top": null,
            "visibility": null,
            "width": null
          }
        },
        "5ab3d7bbf6604e6c99e56ed5259ff4a3": {
          "model_module": "@jupyter-widgets/controls",
          "model_name": "ToggleButtonModel",
          "model_module_version": "1.5.0",
          "state": {
            "_dom_classes": [],
            "_model_module": "@jupyter-widgets/controls",
            "_model_module_version": "1.5.0",
            "_model_name": "ToggleButtonModel",
            "_view_count": null,
            "_view_module": "@jupyter-widgets/controls",
            "_view_module_version": "1.5.0",
            "_view_name": "ToggleButtonView",
            "button_style": "",
            "description": "",
            "description_tooltip": null,
            "disabled": false,
            "icon": "wrench",
            "layout": "IPY_MODEL_65511fd6a0e04e77b7048320cb22cb39",
            "style": "IPY_MODEL_605b0f7b6f634c9abbae7dfca14187f0",
            "tooltip": "Toolbar",
            "value": false
          }
        },
        "e00a83f1524e4435b1201368c05bfdb1": {
          "model_module": "@jupyter-widgets/base",
          "model_name": "LayoutModel",
          "model_module_version": "1.2.0",
          "state": {
            "_model_module": "@jupyter-widgets/base",
            "_model_module_version": "1.2.0",
            "_model_name": "LayoutModel",
            "_view_count": null,
            "_view_module": "@jupyter-widgets/base",
            "_view_module_version": "1.2.0",
            "_view_name": "LayoutView",
            "align_content": null,
            "align_items": null,
            "align_self": null,
            "border": null,
            "bottom": null,
            "display": null,
            "flex": null,
            "flex_flow": null,
            "grid_area": null,
            "grid_auto_columns": null,
            "grid_auto_flow": null,
            "grid_auto_rows": null,
            "grid_column": null,
            "grid_gap": null,
            "grid_row": null,
            "grid_template_areas": null,
            "grid_template_columns": null,
            "grid_template_rows": null,
            "height": null,
            "justify_content": null,
            "justify_items": null,
            "left": null,
            "margin": null,
            "max_height": null,
            "max_width": null,
            "min_height": null,
            "min_width": null,
            "object_fit": null,
            "object_position": null,
            "order": null,
            "overflow": null,
            "overflow_x": null,
            "overflow_y": null,
            "padding": null,
            "right": null,
            "top": null,
            "visibility": null,
            "width": null
          }
        },
        "2d068b60d03f4e5f99e85972033fdf7a": {
          "model_module": "@jupyter-widgets/base",
          "model_name": "LayoutModel",
          "model_module_version": "1.2.0",
          "state": {
            "_model_module": "@jupyter-widgets/base",
            "_model_module_version": "1.2.0",
            "_model_name": "LayoutModel",
            "_view_count": null,
            "_view_module": "@jupyter-widgets/base",
            "_view_module_version": "1.2.0",
            "_view_name": "LayoutView",
            "align_content": null,
            "align_items": null,
            "align_self": null,
            "border": null,
            "bottom": null,
            "display": null,
            "flex": null,
            "flex_flow": null,
            "grid_area": null,
            "grid_auto_columns": null,
            "grid_auto_flow": null,
            "grid_auto_rows": null,
            "grid_column": null,
            "grid_gap": null,
            "grid_row": null,
            "grid_template_areas": null,
            "grid_template_columns": null,
            "grid_template_rows": null,
            "height": "28px",
            "justify_content": null,
            "justify_items": null,
            "left": null,
            "margin": null,
            "max_height": null,
            "max_width": null,
            "min_height": null,
            "min_width": null,
            "object_fit": null,
            "object_position": null,
            "order": null,
            "overflow": null,
            "overflow_x": null,
            "overflow_y": null,
            "padding": "0px 0px 0px 4px",
            "right": null,
            "top": null,
            "visibility": null,
            "width": "28px"
          }
        },
        "e099a184d38743a38656fcdeb7fc066f": {
          "model_module": "@jupyter-widgets/controls",
          "model_name": "DescriptionStyleModel",
          "model_module_version": "1.5.0",
          "state": {
            "_model_module": "@jupyter-widgets/controls",
            "_model_module_version": "1.5.0",
            "_model_name": "DescriptionStyleModel",
            "_view_count": null,
            "_view_module": "@jupyter-widgets/base",
            "_view_module_version": "1.2.0",
            "_view_name": "StyleView",
            "description_width": ""
          }
        },
        "65511fd6a0e04e77b7048320cb22cb39": {
          "model_module": "@jupyter-widgets/base",
          "model_name": "LayoutModel",
          "model_module_version": "1.2.0",
          "state": {
            "_model_module": "@jupyter-widgets/base",
            "_model_module_version": "1.2.0",
            "_model_name": "LayoutModel",
            "_view_count": null,
            "_view_module": "@jupyter-widgets/base",
            "_view_module_version": "1.2.0",
            "_view_name": "LayoutView",
            "align_content": null,
            "align_items": null,
            "align_self": null,
            "border": null,
            "bottom": null,
            "display": null,
            "flex": null,
            "flex_flow": null,
            "grid_area": null,
            "grid_auto_columns": null,
            "grid_auto_flow": null,
            "grid_auto_rows": null,
            "grid_column": null,
            "grid_gap": null,
            "grid_row": null,
            "grid_template_areas": null,
            "grid_template_columns": null,
            "grid_template_rows": null,
            "height": "28px",
            "justify_content": null,
            "justify_items": null,
            "left": null,
            "margin": null,
            "max_height": null,
            "max_width": null,
            "min_height": null,
            "min_width": null,
            "object_fit": null,
            "object_position": null,
            "order": null,
            "overflow": null,
            "overflow_x": null,
            "overflow_y": null,
            "padding": "0px 0px 0px 4px",
            "right": null,
            "top": null,
            "visibility": null,
            "width": "28px"
          }
        },
        "605b0f7b6f634c9abbae7dfca14187f0": {
          "model_module": "@jupyter-widgets/controls",
          "model_name": "DescriptionStyleModel",
          "model_module_version": "1.5.0",
          "state": {
            "_model_module": "@jupyter-widgets/controls",
            "_model_module_version": "1.5.0",
            "_model_name": "DescriptionStyleModel",
            "_view_count": null,
            "_view_module": "@jupyter-widgets/base",
            "_view_module_version": "1.2.0",
            "_view_name": "StyleView",
            "description_width": ""
          }
        }
      }
    }
  },
  "nbformat": 4,
  "nbformat_minor": 0
}